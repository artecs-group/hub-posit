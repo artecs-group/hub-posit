{
 "cells": [
  {
   "cell_type": "code",
   "execution_count": 1,
   "metadata": {},
   "outputs": [],
   "source": [
    "import numpy as np\n",
    "import matplotlib.pyplot as plt\n",
    "import matplotlib.ticker as mtick"
   ]
  },
  {
   "cell_type": "markdown",
   "metadata": {},
   "source": [
    "# Read data"
   ]
  },
  {
   "cell_type": "code",
   "execution_count": 2,
   "metadata": {},
   "outputs": [],
   "source": [
    "N = 1_000_000"
   ]
  },
  {
   "cell_type": "code",
   "execution_count": 134,
   "metadata": {},
   "outputs": [],
   "source": [
    "# a = np.empty((7, N*10*10), dtype='float64')\n",
    "# for i in range(10):\n",
    "#     for j in range(10):\n",
    "#         a[:,N*(i*10+j) : N*(i*10+j+1)] = np.loadtxt('../build/addition_16_'+str(i)+'_'+str(j)+'.txt', delimiter=',', max_rows=1_000_000).T\n",
    "\n",
    "# m = np.empty((7, N*10*10), dtype='float64')\n",
    "# for i in range(10):\n",
    "#     for j in range(10):\n",
    "#         m[:,N*(i*10+j) : N*(i*10+j+1)] = np.loadtxt('../build/multiply_16_'+str(i)+'_'+str(j)+'.txt', delimiter=',', max_rows=1_000_000).T\n",
    "\n",
    "c = np.empty((7, N*10*10), dtype='float64')\n",
    "for i in range(10):\n",
    "    for j in range(10):\n",
    "        c[:,N*(i*10+j) : N*(i*10+j+1)] = np.loadtxt('../build/convert_16_'+str(i)+'_'+str(j)+'.txt', delimiter=',', max_rows=1_000_000).T"
   ]
  },
  {
   "cell_type": "markdown",
   "metadata": {},
   "source": [
    "### Addition"
   ]
  },
  {
   "cell_type": "code",
   "execution_count": 120,
   "metadata": {},
   "outputs": [
    {
     "name": "stdout",
     "output_type": "stream",
     "text": [
      "Posit  &        nan &        nan &        nan &        nan \\\\\n",
      "HUB    &        nan &        nan &        nan &        nan \\\\\n"
     ]
    }
   ],
   "source": [
    "for k, i in enumerate([a[3], a[4]]):\n",
    "    print(f\"{('Posit' if k == 0 else 'HUB'):<6} & {i.min():>10.3e} & {i.mean():>10.3e} & {i.max():>10.3e} & {i.std():>10.3e} \\\\\\\\\")"
   ]
  },
  {
   "cell_type": "code",
   "execution_count": 121,
   "metadata": {},
   "outputs": [
    {
     "name": "stdout",
     "output_type": "stream",
     "text": [
      "[-6.27441e-02 -1.25000e-01 -6.24847e-02  9.92218e-01 -4.13424e-03\n",
      "  1.26281e+02 -1.26344e+02]\n",
      "[ 6.41346e-05  1.22070e-04  6.11544e-05 -9.03346e-01  4.64684e-02\n",
      " -2.33427e-01  2.33491e-01]\n",
      "[-1.00583e-06 -9.53674e-07 -1.90362e-06 -5.18519e-02  8.92593e-01\n",
      " -7.35316e-04  7.34311e-04]\n",
      "[ 4.97818e-04  4.88281e-04  9.77516e-04  1.91571e-02 -9.63602e-01\n",
      " -1.22802e+00  1.22852e+00]\n",
      "0.99997578\n"
     ]
    }
   ],
   "source": [
    "# Remove 0's, nan's, cancellative subtractions\n",
    "aa = a[:, (a[0] != 0) & (a[1] != 0) & (a[2] != 0)]\n",
    "# aa = a\n",
    "\n",
    "print(aa[:,np.argmax(aa[3])])\n",
    "print(aa[:,np.argmin(aa[3])])\n",
    "print(aa[:,np.argmax(aa[4])])\n",
    "print(aa[:,np.argmin(aa[4])])\n",
    "\n",
    "print(aa.shape[1]/a.shape[1])"
   ]
  },
  {
   "cell_type": "code",
   "execution_count": 122,
   "metadata": {},
   "outputs": [
    {
     "name": "stdout",
     "output_type": "stream",
     "text": [
      "Posit  & -9.033e-01 & -3.190e-07 &  9.922e-01 &  2.567e-03 \\\\\n",
      "HUB    & -9.636e-01 & -1.738e-05 &  8.926e-01 &  2.556e-03 \\\\\n"
     ]
    }
   ],
   "source": [
    "for k, i in enumerate([aa[3], aa[4]]):\n",
    "    print(f\"{('Posit' if k == 0 else 'HUB'):<6} & {i.min():>10.3e} & {i.mean():>10.3e} & {i.max():>10.3e} & {i.std():>10.3e} \\\\\\\\\")"
   ]
  },
  {
   "cell_type": "markdown",
   "metadata": {},
   "source": [
    "### Multiplication"
   ]
  },
  {
   "cell_type": "code",
   "execution_count": 52,
   "metadata": {},
   "outputs": [
    {
     "name": "stdout",
     "output_type": "stream",
     "text": [
      "Posit  & -2.496e+03 &  5.766e-05 &  2.112e+03 &  7.811e-01 \\\\\n",
      "HUB    & -1.550e+02 & -7.923e-06 &  1.311e+02 &  5.168e-02 \\\\\n"
     ]
    }
   ],
   "source": [
    "for k, i in enumerate([m[3], m[4]]):\n",
    "    print(f\"{('Posit' if k == 0 else 'HUB'):<6} & {i.min():>10.3e} & {i.mean():>10.3e} & {i.max():>10.3e} & {i.std():>10.3e} \\\\\\\\\")"
   ]
  },
  {
   "cell_type": "markdown",
   "metadata": {},
   "source": [
    "Let us remove data that are not represntable in Posit16, $|x| \\notin [2^{-56}, 2^{56}]$."
   ]
  },
  {
   "cell_type": "code",
   "execution_count": 61,
   "metadata": {},
   "outputs": [
    {
     "name": "stdout",
     "output_type": "stream",
     "text": [
      "1.387779e-17, 7.205759e+16\n",
      "[-6.56725e-21 -1.38778e-17 -8.67362e-19  2.11218e+03  1.31074e+02\n",
      " -1.09821e-10  5.97993e-11]\n",
      "[ 5.55843e-21  1.38778e-17  8.67362e-19 -2.49571e+03 -1.55044e+02\n",
      "  6.42899e-11  8.64588e-11]\n"
     ]
    }
   ],
   "source": [
    "print(f'{2**-56:e}, {2**56:e}')\n",
    "print(m[:,np.argmax(m[3])])\n",
    "print(m[:,np.argmin(m[3])])"
   ]
  },
  {
   "cell_type": "code",
   "execution_count": 100,
   "metadata": {},
   "outputs": [
    {
     "name": "stdout",
     "output_type": "stream",
     "text": [
      "0.99997717\n",
      "Posit  & -3.127e+00 & -1.708e-06 &  3.167e+00 &  1.178e-02 \\\\\n",
      "HUB    & -1.539e+01 & -9.875e-06 &  3.038e+00 &  1.223e-02 \\\\\n"
     ]
    }
   ],
   "source": [
    "mm = m[:, ((2**-56) <= np.abs(m[0])) & (np.abs(m[0]) <= (2**56))]\n",
    "\n",
    "print(mm.shape[1]/m.shape[1])\n",
    "\n",
    "for k, i in enumerate([mm[3], mm[4]]):\n",
    "    print(f\"{('Posit' if k == 0 else 'HUB'):<6} & {i.min():>10.3e} & {i.mean():>10.3e} & {i.max():>10.3e} & {i.std():>10.3e} \\\\\\\\\")"
   ]
  },
  {
   "cell_type": "code",
   "execution_count": 44,
   "metadata": {},
   "outputs": [
    {
     "name": "stdout",
     "output_type": "stream",
     "text": [
      "1.387779e-17, 7.205759e+16\n",
      "[-1.76766e+16 -7.20576e+16 -1.80144e+16  3.07644e+00  1.91109e-02\n",
      "  2.56635e+07 -6.88783e+08]\n",
      "[ 5.32998e-17  2.22045e-16  5.55112e-17 -3.16595e+00 -4.14882e-02\n",
      "  6.26130e-11  8.51258e-07]\n",
      "[-7.19672e+16 -7.20576e+16 -1.15292e+18  1.25548e-03  1.50201e+01\n",
      " -1.25731e+08  5.72391e+08]\n",
      "[ 4.45444e+15  4.50360e+15  1.80144e+16 -1.10368e-02 -3.04415e+00\n",
      "  1.15144e+07  3.86859e+08]\n"
     ]
    }
   ],
   "source": [
    "print(f'{2**-56:e}, {2**56:e}')\n",
    "print(mm[:,np.argmax(mm[3])])\n",
    "print(mm[:,np.argmin(mm[3])])\n",
    "print(mm[:,np.argmax(mm[4])])\n",
    "print(mm[:,np.argmin(mm[4])])"
   ]
  },
  {
   "cell_type": "markdown",
   "metadata": {},
   "source": [
    "Let us remove points $x$ that apply HUB on the regime, i.e. $x \\notin [-2^{56}, -2^{-52}] \\cup [2^{-56}, 2^{52}]$.  \n",
    "**REMARK:** The only *all regime cases* are `01...1` and `11...1`; i.e., $maxpos$ and $-minpos$"
   ]
  },
  {
   "cell_type": "code",
   "execution_count": 99,
   "metadata": {},
   "outputs": [
    {
     "name": "stdout",
     "output_type": "stream",
     "text": [
      "0.99994867\n",
      "Posit  & -3.127e+00 & -9.498e-06 &  2.996e+00 &  1.033e-02 \\\\\n",
      "HUB    & -2.992e+00 & -4.521e-06 &  3.038e+00 &  1.056e-02 \\\\\n"
     ]
    }
   ],
   "source": [
    "mm = m[:, ((m[0] > 0) & ((2**-56) <= (m[0])) & ((m[0]) <= (2**52))) | ((m[0] < 0) & ((-2**-52) >= (m[0])) & ((m[0]) >= (-2**56)))]\n",
    "\n",
    "print(mm.shape[1]/m.shape[1])\n",
    "\n",
    "for k, i in enumerate([mm[3], mm[4]]):\n",
    "    print(f\"{('Posit' if k == 0 else 'HUB'):<6} & {i.min():>10.3e} & {i.mean():>10.3e} & {i.max():>10.3e} & {i.std():>10.3e} \\\\\\\\\")"
   ]
  },
  {
   "cell_type": "code",
   "execution_count": 48,
   "metadata": {},
   "outputs": [
    {
     "name": "stdout",
     "output_type": "stream",
     "text": [
      "-7.205759e+16, -2.220446e-16, 1.387779e-17, 4.503600e+15\n",
      "[-1.76766e+16 -7.20576e+16 -1.80144e+16  3.07644e+00  1.91109e-02\n",
      "  2.56635e+07 -6.88783e+08]\n",
      "[ 5.32998e-17  2.22045e-16  5.55112e-17 -3.16595e+00 -4.14882e-02\n",
      "  6.26130e-11  8.51258e-07]\n",
      "[-7.19672e+16 -7.20576e+16 -1.15292e+18  1.25548e-03  1.50201e+01\n",
      " -1.25731e+08  5.72391e+08]\n",
      "[ 4.45444e+15  4.50360e+15  1.80144e+16 -1.10368e-02 -3.04415e+00\n",
      "  1.15144e+07  3.86859e+08]\n"
     ]
    }
   ],
   "source": [
    "print(f'{-2**56:e}, {-2**-52:e}, {2**-56:e}, {2**52:e}')\n",
    "print(mm[:,np.argmax(mm[3])])\n",
    "print(mm[:,np.argmin(mm[3])])\n",
    "print(mm[:,np.argmax(mm[4])])\n",
    "print(mm[:,np.argmin(mm[4])])"
   ]
  },
  {
   "cell_type": "markdown",
   "metadata": {},
   "source": [
    "Let us remove points $x$ that only have regime, i.e. $|x| \\notin [2^{-56}, 2^{52}]$."
   ]
  },
  {
   "cell_type": "code",
   "execution_count": 56,
   "metadata": {},
   "outputs": [
    {
     "name": "stdout",
     "output_type": "stream",
     "text": [
      "0.99995888\n",
      "Posit  & -3.127e+00 & -1.044e-06 &  3.167e+00 &  1.107e-02 \\\\\n",
      "HUB    & -2.992e+00 & -9.322e-06 &  3.038e+00 &  1.062e-02 \\\\\n"
     ]
    }
   ],
   "source": [
    "mm = m[:, ((2**-56) <= np.abs(m[0])) & (np.abs(m[0]) <= (2**52))]\n",
    "\n",
    "print(mm.shape[1]/m.shape[1])\n",
    "\n",
    "for k, i in enumerate([mm[3], mm[4]]):\n",
    "    print(f\"{('Posit' if k == 0 else 'HUB'):<6} & {i.min():>10.3e} & {i.mean():>10.3e} & {i.max():>10.3e} & {i.std():>10.3e} \\\\\\\\\")"
   ]
  },
  {
   "cell_type": "markdown",
   "metadata": {},
   "source": [
    "Let us remove points $x$ that doesn't have explicit exponent bits, i.e. $|x| \\notin [2^{-54}, 2^{50}]$."
   ]
  },
  {
   "cell_type": "code",
   "execution_count": 57,
   "metadata": {},
   "outputs": [
    {
     "name": "stdout",
     "output_type": "stream",
     "text": [
      "0.99992125\n",
      "Posit  & -2.995e+00 & -1.385e-06 &  2.998e+00 &  1.064e-02 \\\\\n",
      "HUB    & -1.086e+00 & -8.758e-06 &  1.040e+00 &  9.066e-03 \\\\\n"
     ]
    }
   ],
   "source": [
    "mm = m[:, ((2**-54) <= np.abs(m[0])) & (np.abs(m[0]) <= (2**50))]\n",
    "\n",
    "print(mm.shape[1]/m.shape[1])\n",
    "\n",
    "for k, i in enumerate([mm[3], mm[4]]):\n",
    "    print(f\"{('Posit' if k == 0 else 'HUB'):<6} & {i.min():>10.3e} & {i.mean():>10.3e} & {i.max():>10.3e} & {i.std():>10.3e} \\\\\\\\\")"
   ]
  },
  {
   "cell_type": "code",
   "execution_count": 80,
   "metadata": {},
   "outputs": [
    {
     "name": "stdout",
     "output_type": "stream",
     "text": [
      "Posit  & -2.995e+00 & -1.385e-06 &  2.998e+00 &  1.064e-02 \\\\\n",
      "HUB    & -1.086e+00 & -8.758e-06 &  1.040e+00 &  9.066e-03 \\\\\n"
     ]
    }
   ],
   "source": [
    "for k, i in enumerate([mm[3], mm[4]]):\n",
    "    print(f\"{('Posit' if k == 0 else 'HUB'):<6} & {i.min():>10.3e} & {i.mean():>10.3e} & {i.max():>10.3e} & {i.std():>10.3e} \\\\\\\\\")"
   ]
  },
  {
   "cell_type": "markdown",
   "metadata": {},
   "source": [
    "Let us remove points $x$ that doesn't have explicit fraction bits, i.e. $|x| \\notin [2^{-48}, 2^{47}]$."
   ]
  },
  {
   "cell_type": "code",
   "execution_count": 58,
   "metadata": {},
   "outputs": [
    {
     "name": "stdout",
     "output_type": "stream",
     "text": [
      "3.552714e-15, 1.407375e+14\n",
      "[-6.56725e-21 -1.38778e-17 -8.67362e-19  2.11218e+03  1.31074e+02\n",
      " -1.09821e-10  5.97993e-11]\n",
      "[ 5.55843e-21  1.38778e-17  8.67362e-19 -2.49571e+03 -1.55044e+02\n",
      "  6.42899e-11  8.64588e-11]\n"
     ]
    }
   ],
   "source": [
    "print(f'{2**-48:e}, {2**47:e}')\n",
    "\n",
    "print(m[:,np.argmax(m[3])])\n",
    "print(m[:,np.argmin(m[3])])\n",
    "# print(m[:,np.argmax(m[4])])   # Same output\n",
    "# print(m[:,np.argmin(m[4])])   # Same output"
   ]
  },
  {
   "cell_type": "code",
   "execution_count": 59,
   "metadata": {},
   "outputs": [
    {
     "name": "stdout",
     "output_type": "stream",
     "text": [
      "0.9997312\n",
      "Posit  & -3.877e-01 & -4.543e-07 &  3.827e-01 &  6.539e-03 \\\\\n",
      "HUB    & -5.684e-01 & -8.383e-06 &  5.648e-01 &  7.002e-03 \\\\\n"
     ]
    }
   ],
   "source": [
    "mm = m[:, ((2**-48) <= np.abs(m[0])) & (np.abs(m[0]) <= (2**47))]\n",
    "\n",
    "print(mm.shape[1]/m.shape[1])\n",
    "\n",
    "for k, i in enumerate([mm[3], mm[4]]):\n",
    "    print(f\"{('Posit' if k == 0 else 'HUB'):<6} & {i.min():>10.3e} & {i.mean():>10.3e} & {i.max():>10.3e} & {i.std():>10.3e} \\\\\\\\\")"
   ]
  },
  {
   "cell_type": "markdown",
   "metadata": {},
   "source": [
    "Let us remove points $x$ so that $|x| \\notin [2^{-30}, 2^{30}]$."
   ]
  },
  {
   "cell_type": "code",
   "execution_count": 60,
   "metadata": {},
   "outputs": [
    {
     "name": "stdout",
     "output_type": "stream",
     "text": [
      "0.98566204\n",
      "Posit  & -8.385e-02 &  1.862e-07 &  8.662e-02 &  2.165e-03 \\\\\n",
      "HUB    & -9.140e-02 & -4.751e-06 &  8.136e-02 &  2.165e-03 \\\\\n"
     ]
    }
   ],
   "source": [
    "mm = m[:, ((2**-30) <= np.abs(m[0])) & (np.abs(m[0]) <= (2**30))]\n",
    "\n",
    "print(mm.shape[1]/m.shape[1])\n",
    "\n",
    "for k, i in enumerate([mm[3], mm[4]]):\n",
    "    print(f\"{('Posit' if k == 0 else 'HUB'):<6} & {i.min():>10.3e} & {i.mean():>10.3e} & {i.max():>10.3e} & {i.std():>10.3e} \\\\\\\\\")"
   ]
  },
  {
   "cell_type": "markdown",
   "metadata": {},
   "source": [
    "Let us remove points $x$ so that $|x| \\notin [2^{-39}, 2^{39}]$."
   ]
  },
  {
   "cell_type": "code",
   "execution_count": 6,
   "metadata": {},
   "outputs": [
    {
     "name": "stdout",
     "output_type": "stream",
     "text": [
      "0.99790962\n",
      "Posit  & -1.706e-01 &  1.459e-08 &  1.585e-01 &  3.955e-03 \\\\\n",
      "HUB    & -1.856e-01 & -7.079e-06 &  1.816e-01 &  3.974e-03 \\\\\n"
     ]
    }
   ],
   "source": [
    "mm = m[:, ((2**-39) <= np.abs(m[0])) & (np.abs(m[0]) <= (2**39))]\n",
    "\n",
    "print(mm.shape[1]/m.shape[1])\n",
    "\n",
    "for k, i in enumerate([mm[3], mm[4]]):\n",
    "    print(f\"{('Posit' if k == 0 else 'HUB'):<6} & {i.min():>10.3e} & {i.mean():>10.3e} & {i.max():>10.3e} & {i.std():>10.3e} \\\\\\\\\")"
   ]
  },
  {
   "cell_type": "markdown",
   "metadata": {},
   "source": [
    "### Conversion"
   ]
  },
  {
   "cell_type": "code",
   "execution_count": 135,
   "metadata": {},
   "outputs": [
    {
     "name": "stdout",
     "output_type": "stream",
     "text": [
      "Posit  & -5.882e-02 &  8.503e-08 &  5.882e-02 &  1.197e-03 \\\\\n",
      "HUB    & -6.250e-02 & -2.529e-06 &  6.198e-02 &  1.199e-03 \\\\\n"
     ]
    }
   ],
   "source": [
    "for k, i in enumerate([c[3], c[4]]):\n",
    "    print(f\"{('Posit' if k == 0 else 'HUB'):<6} & {i.min():>10.3e} & {i.mean():>10.3e} & {i.max():>10.3e} & {i.std():>10.3e} \\\\\\\\\")"
   ]
  },
  {
   "cell_type": "code",
   "execution_count": 178,
   "metadata": {},
   "outputs": [],
   "source": [
    "# del(a)\n",
    "# del(m)\n",
    "# # del(mm)\n",
    "# del(c)"
   ]
  },
  {
   "cell_type": "code",
   "execution_count": 68,
   "metadata": {},
   "outputs": [],
   "source": [
    "# y = np.loadtxt('../build/add28.txt', delimiter=',').T\n",
    "# z = np.loadtxt('../build/conv32.txt', delimiter=',').T\n",
    "# z = np.loadtxt('../build/add32.txt', delimiter=',').T\n",
    "\n",
    "# z = np.loadtxt('../build/add32_.txt', delimiter=',', max_rows=10000000).T\n",
    "# y = np.loadtxt('../build/mul32_.txt', delimiter=',', max_rows=10000000).T\n",
    "# v = np.loadtxt('../build/conv32_.txt', delimiter=',', max_rows=10000000).T\n",
    "\n",
    "z = np.loadtxt('../build/add16_.txt', delimiter=',', max_rows=10000000).T\n",
    "y = np.loadtxt('../build/mul16_.txt', delimiter=',', max_rows=10000000).T\n",
    "v = np.loadtxt('../build/conv16_.txt', delimiter=',', max_rows=10000000).T\n",
    "\n",
    "# z[0]: Exact result\n",
    "# z[1]: Posit result\n",
    "# z[2]: HUB result\n",
    "# z[3]: Posit error\n",
    "# z[4]: HUB error"
   ]
  },
  {
   "cell_type": "code",
   "execution_count": 3,
   "metadata": {},
   "outputs": [],
   "source": [
    "a = np.loadtxt('../build/add.txt', delimiter=',').T\n",
    "m = np.loadtxt('../build/mul.txt', delimiter=',').T\n",
    "c = np.loadtxt('../build/conv.txt', delimiter=',').T"
   ]
  },
  {
   "cell_type": "code",
   "execution_count": 324,
   "metadata": {},
   "outputs": [
    {
     "name": "stdout",
     "output_type": "stream",
     "text": [
      "Format &        min &       mean &        max &        std \\\\\n",
      "Posit  & -4.191e-09 &  1.653e-12 &  4.191e-09 &  1.349e-09 \\\\\n",
      "HUB    & -4.657e-09 & -6.168e-10 &  2.794e-09 &  1.290e-09 \\\\\n",
      "Posit  & -5.389e-09 &  1.214e-12 &  5.340e-09 &  8.572e-10 \\\\\n",
      "HUB    & -5.299e-09 & -1.054e-12 &  5.427e-09 &  8.591e-10 \\\\\n",
      "Posit  & -1.863e-09 &  5.807e-13 &  1.863e-09 &  8.128e-10 \\\\\n",
      "HUB    & -1.863e-09 & -9.018e-13 &  1.863e-09 &  8.129e-10 \\\\\n"
     ]
    }
   ],
   "source": [
    "print(f\"{'Format':<6} & {'min':>10} & {'mean':>10} & {'max':>10} & {'std':>10} \\\\\\\\\")\n",
    "\n",
    "for k, i in enumerate(a):\n",
    "    print(f\"{('Posit' if k == 0 else 'HUB'):<6} & {i.min():>10.3e} & {i.mean():>10.3e} & {i.max():>10.3e} & {i.std():>10.3e} \\\\\\\\\")\n",
    "\n",
    "for k, i in enumerate(m):\n",
    "    print(f\"{('Posit' if k == 0 else 'HUB'):<6} & {i.min():>10.3e} & {i.mean():>10.3e} & {i.max():>10.3e} & {i.std():>10.3e} \\\\\\\\\")\n",
    "\n",
    "for k, i in enumerate(c):\n",
    "    print(f\"{('Posit' if k == 0 else 'HUB'):<6} & {i.min():>10.3e} & {i.mean():>10.3e} & {i.max():>10.3e} & {i.std():>10.3e} \\\\\\\\\")"
   ]
  },
  {
   "cell_type": "markdown",
   "metadata": {},
   "source": [
    "# Plot results"
   ]
  },
  {
   "cell_type": "code",
   "execution_count": 248,
   "metadata": {},
   "outputs": [],
   "source": [
    "#set font of all elements to size 15\n",
    "plt.rc('font', size=14)"
   ]
  },
  {
   "cell_type": "markdown",
   "metadata": {},
   "source": [
    "## Addition"
   ]
  },
  {
   "cell_type": "code",
   "execution_count": 123,
   "metadata": {},
   "outputs": [
    {
     "name": "stdout",
     "output_type": "stream",
     "text": [
      "(-0.903346, 0.992218) U (-0.963602, 0.892593) =\n"
     ]
    },
    {
     "data": {
      "text/plain": [
       "(-0.963602, 0.992218)"
      ]
     },
     "execution_count": 123,
     "metadata": {},
     "output_type": "execute_result"
    }
   ],
   "source": [
    "add_p = aa[3]\n",
    "add_h = aa[4]\n",
    "\n",
    "del(a)\n",
    "del(aa)\n",
    "\n",
    "print((np.min(add_p), np.max(add_p)), \"U\", (np.min(add_h), np.max(add_h)), \"=\")\n",
    "r_min = min(np.min(add_p), np.min(add_h))\n",
    "r_max = max(np.max(add_p), np.max(add_h))\n",
    "r_min, r_max"
   ]
  },
  {
   "cell_type": "code",
   "execution_count": 130,
   "metadata": {},
   "outputs": [
    {
     "name": "stdout",
     "output_type": "stream",
     "text": [
      "5892496\n",
      "5958939\n"
     ]
    }
   ],
   "source": [
    "for frmt in [add_p,add_h]:\n",
    "    print(np.histogram(frmt, bins=60000, range=(r_min, r_max))[0].max())"
   ]
  },
  {
   "cell_type": "code",
   "execution_count": 251,
   "metadata": {},
   "outputs": [
    {
     "data": {
      "image/png": "[encoded data removed]",
      "text/plain": [
       "<Figure size 500x400 with 1 Axes>"
      ]
     },
     "metadata": {},
     "output_type": "display_data"
    }
   ],
   "source": [
    "fig = plt.figure(figsize=(5,4))\n",
    "ax = fig.add_subplot(111)\n",
    "ax.set_xlabel('Relative Error')\n",
    "ax.set_ylabel('Frequency')\n",
    "\n",
    "# ax.set_title('Posit32')\n",
    "xmax = 1e-02\n",
    "xmin = -xmax\n",
    "# ax.hist(add_p, bins=60000, range=(r_min, r_max), color='#1f77b4')\n",
    "# ax.set_ylim(0, 6e6)\n",
    "ax.hist(add_p, bins=500, range=(xmin, xmax), histtype='stepfilled', color='#1f77b4')\n",
    "ax.set_ylim(0, 8e6)\n",
    "\n",
    "ax.set_xlim(xmin, xmax)\n",
    "\n",
    "ax.tick_params(direction='inout')\n",
    "ax.set_xticks(ticks=np.arange(xmin, xmax+1e-7, xmax/2))\n",
    "ax.ticklabel_format(axis='x', style='sci', scilimits=(0, 0), useMathText='True')\n",
    "ax.ticklabel_format(axis='y', style='sci', scilimits=(0, 0), useMathText='True')\n",
    "\n",
    "\n",
    "plt.savefig('figs/rel_err_add_posit.pdf', bbox_inches='tight')\n",
    "plt.show()"
   ]
  },
  {
   "cell_type": "code",
   "execution_count": 252,
   "metadata": {},
   "outputs": [
    {
     "data": {
      "image/png": "[encoded data removed]",
      "text/plain": [
       "<Figure size 500x400 with 1 Axes>"
      ]
     },
     "metadata": {},
     "output_type": "display_data"
    }
   ],
   "source": [
    "fig = plt.figure(figsize=(5,4))\n",
    "ax = fig.add_subplot(111)\n",
    "ax.set_xlabel('Relative Error')\n",
    "ax.set_ylabel('Frequency')\n",
    "\n",
    "# ax.set_title('Posit32 HUB')\n",
    "xmax = 1e-02\n",
    "xmin = -xmax\n",
    "# ax.hist(add_h, bins=60000, range=(r_min, r_max), color='#ff7f0e')\n",
    "# ax.set_ylim(0, 6e6)\n",
    "ax.hist(add_h, bins=500, range=(xmin, xmax), histtype='stepfilled', color='#ff7f0e')\n",
    "ax.set_ylim(0, 8e6)\n",
    "\n",
    "ax.set_xlim(xmin, xmax)\n",
    "\n",
    "ax.tick_params(direction='inout')\n",
    "ax.set_xticks(ticks=np.arange(xmin, xmax+1e-7, xmax/2))\n",
    "ax.ticklabel_format(axis='x', style='sci', scilimits=(0, 0), useMathText='True')\n",
    "ax.ticklabel_format(axis='y', style='sci', scilimits=(0, 0), useMathText='True')\n",
    "\n",
    "\n",
    "plt.savefig('figs/rel_err_add_hub.pdf', bbox_inches='tight')\n",
    "plt.show()"
   ]
  },
  {
   "cell_type": "markdown",
   "metadata": {},
   "source": [
    "## Conversion"
   ]
  },
  {
   "cell_type": "code",
   "execution_count": 136,
   "metadata": {},
   "outputs": [
    {
     "name": "stdout",
     "output_type": "stream",
     "text": [
      "(-0.0588235, 0.0588235) U (-0.0625, 0.0619815) =\n"
     ]
    },
    {
     "data": {
      "text/plain": [
       "(-0.0625, 0.0619815)"
      ]
     },
     "execution_count": 136,
     "metadata": {},
     "output_type": "execute_result"
    }
   ],
   "source": [
    "conv_p = c[3]\n",
    "conv_h = c[4]\n",
    "\n",
    "del(c)\n",
    "\n",
    "print((np.min(conv_p), np.max(conv_p)), \"U\", (np.min(conv_h), np.max(conv_h)), \"=\")\n",
    "r_min = min(np.min(conv_p), np.min(conv_h))\n",
    "r_max = max(np.max(conv_p), np.max(conv_h))\n",
    "r_min, r_max"
   ]
  },
  {
   "cell_type": "code",
   "execution_count": 137,
   "metadata": {},
   "outputs": [
    {
     "name": "stdout",
     "output_type": "stream",
     "text": [
      "1305908\n",
      "1305251\n"
     ]
    }
   ],
   "source": [
    "for frmt in [conv_p,conv_h]:\n",
    "    print(np.histogram(frmt, bins=20000, range=(r_min, r_max))[0].max())"
   ]
  },
  {
   "cell_type": "code",
   "execution_count": 253,
   "metadata": {},
   "outputs": [
    {
     "data": {
      "image/png": "[encoded data removed]",
      "text/plain": [
       "<Figure size 500x400 with 1 Axes>"
      ]
     },
     "metadata": {},
     "output_type": "display_data"
    }
   ],
   "source": [
    "fig = plt.figure(figsize=(5,4))\n",
    "ax = fig.add_subplot(111)\n",
    "ax.set_xlabel('Relative Error')\n",
    "ax.set_ylabel('Frequency')\n",
    "\n",
    "# ax.set_title('Posit32')\n",
    "xmax = 1e-03\n",
    "xmin = -xmax\n",
    "# ax.hist(conv_p, bins=20000, range=(r_min, r_max), color='#1f77b4')\n",
    "# ax.set_ylim(0, 6e6)\n",
    "ax.hist(conv_p, bins=500, range=(xmin, xmax), histtype='stepfilled', color='#1f77b4')\n",
    "ax.set_ylim(0, 1.2e6)\n",
    "\n",
    "ax.set_xlim(xmin, xmax)\n",
    "\n",
    "ax.tick_params(direction='inout')\n",
    "ax.set_xticks(ticks=np.arange(xmin, xmax+1e-7, xmax/2))\n",
    "ax.ticklabel_format(axis='x', style='sci', scilimits=(0, 0), useMathText='True')\n",
    "ax.ticklabel_format(axis='y', style='sci', scilimits=(0, 0), useMathText='True')\n",
    "\n",
    "\n",
    "plt.savefig('figs/rel_err_conv_posit.pdf', bbox_inches='tight')\n",
    "plt.show()"
   ]
  },
  {
   "cell_type": "code",
   "execution_count": 254,
   "metadata": {},
   "outputs": [
    {
     "data": {
      "image/png": "[encoded data removed]",
      "text/plain": [
       "<Figure size 500x400 with 1 Axes>"
      ]
     },
     "metadata": {},
     "output_type": "display_data"
    }
   ],
   "source": [
    "fig = plt.figure(figsize=(5,4))\n",
    "ax = fig.add_subplot(111)\n",
    "ax.set_xlabel('Relative Error')\n",
    "ax.set_ylabel('Frequency')\n",
    "\n",
    "# ax.set_title('Posit32 HUB')\n",
    "xmax = 1e-03\n",
    "xmin = -xmax\n",
    "# ax.hist(conv_h, bins=20000, range=(r_min, r_max), color='#ff7f0e')\n",
    "# ax.set_ylim(0, 6e6)\n",
    "ax.hist(conv_h, bins=500, range=(xmin, xmax), histtype='stepfilled', color='#ff7f0e')\n",
    "ax.set_ylim(0, 1.2e6)\n",
    "\n",
    "ax.set_xlim(xmin, xmax)\n",
    "\n",
    "ax.tick_params(direction='inout')\n",
    "ax.set_xticks(ticks=np.arange(xmin, xmax+1e-7, xmax/2))\n",
    "ax.ticklabel_format(axis='x', style='sci', scilimits=(0, 0), useMathText='True')\n",
    "ax.ticklabel_format(axis='y', style='sci', scilimits=(0, 0), useMathText='True')\n",
    "\n",
    "\n",
    "plt.savefig('figs/rel_err_conv_hub.pdf', bbox_inches='tight')\n",
    "plt.show()"
   ]
  },
  {
   "cell_type": "markdown",
   "metadata": {},
   "source": [
    "## Multiplication"
   ]
  },
  {
   "cell_type": "code",
   "execution_count": 118,
   "metadata": {},
   "outputs": [
    {
     "name": "stdout",
     "output_type": "stream",
     "text": [
      "(-3.12694, 3.16707) U (-15.3907, 3.03817) =\n"
     ]
    },
    {
     "data": {
      "text/plain": [
       "(-15.3907, 3.16707)"
      ]
     },
     "execution_count": 118,
     "metadata": {},
     "output_type": "execute_result"
    }
   ],
   "source": [
    "mul_p = mm[3]\n",
    "mul_h = mm[4]\n",
    "\n",
    "del(m)\n",
    "del(mm)\n",
    "\n",
    "print((np.min(mul_p), np.max(mul_p)), \"U\", (np.min(mul_h), np.max(mul_h)), \"=\")\n",
    "r_min = min(np.min(mul_p), np.min(mul_h))\n",
    "r_max = max(np.max(mul_p), np.max(mul_h))\n",
    "r_min, r_max"
   ]
  },
  {
   "cell_type": "code",
   "execution_count": 114,
   "metadata": {},
   "outputs": [
    {
     "name": "stdout",
     "output_type": "stream",
     "text": [
      "7480365\n",
      "7477336\n"
     ]
    }
   ],
   "source": [
    "for frmt in [mul_p,mul_h]:\n",
    "    print(np.histogram(frmt, bins=250000, range=(r_min, r_max))[0].max())"
   ]
  },
  {
   "cell_type": "code",
   "execution_count": 257,
   "metadata": {},
   "outputs": [
    {
     "data": {
      "image/png": "[encoded data removed]",
      "text/plain": [
       "<Figure size 500x400 with 1 Axes>"
      ]
     },
     "metadata": {},
     "output_type": "display_data"
    }
   ],
   "source": [
    "fig = plt.figure(figsize=(5,4))\n",
    "ax = fig.add_subplot(111)\n",
    "ax.set_xlabel('Relative Error')\n",
    "ax.set_ylabel('Frequency')\n",
    "\n",
    "# ax.set_title('Posit32')\n",
    "xmax = 1e-02\n",
    "xmin = -xmax\n",
    "# ax.hist(mul_p, bins=250000, range=(r_min, r_max), color='#1f77b4')\n",
    "# ax.set_ylim(0, 6e6)\n",
    "# ax.hist(mul_p, bins=500, range=(xmin, xmax), color='#1f77b4')\n",
    "ax.hist(mul_p, bins=500, range=(xmin, xmax), histtype='stepfilled', color='#1f77b4')\n",
    "ax.set_ylim(0, 5e6)\n",
    "\n",
    "ax.set_xlim(xmin, xmax)\n",
    "\n",
    "ax.set_xticks(ticks=np.arange(xmin, xmax+1e-7, xmax/2))\n",
    "ax.ticklabel_format(axis='x', style='sci', scilimits=(0, 0), useMathText='True')\n",
    "ax.ticklabel_format(axis='y', style='sci', scilimits=(0, 0), useMathText='True')\n",
    "\n",
    "\n",
    "plt.savefig('figs/rel_err_mul_posit.pdf', bbox_inches='tight')\n",
    "plt.show()"
   ]
  },
  {
   "cell_type": "code",
   "execution_count": 256,
   "metadata": {},
   "outputs": [
    {
     "data": {
      "image/png": "[encoded data removed]",
      "text/plain": [
       "<Figure size 500x400 with 1 Axes>"
      ]
     },
     "metadata": {},
     "output_type": "display_data"
    }
   ],
   "source": [
    "fig = plt.figure(figsize=(5,4))\n",
    "ax = fig.add_subplot(111)\n",
    "ax.set_xlabel('Relative Error')\n",
    "ax.set_ylabel('Frequency')\n",
    "\n",
    "# ax.set_title('Posit32 HUB')\n",
    "xmax = 1e-02\n",
    "xmin = -xmax\n",
    "# ax.hist(mul_h, bins=250000, range=(r_min, r_max), color='#ff7f0e')\n",
    "# ax.set_ylim(0, 6e6)\n",
    "ax.hist(mul_h, bins=500, range=(xmin, xmax), histtype='stepfilled', color='#ff7f0e')\n",
    "ax.set_ylim(0, 5e6)\n",
    "\n",
    "ax.set_xlim(xmin, xmax)\n",
    "\n",
    "ax.tick_params(direction='inout')\n",
    "ax.set_xticks(ticks=np.arange(xmin, xmax+1e-7, xmax/2))\n",
    "ax.ticklabel_format(axis='x', style='sci', scilimits=(0, 0), useMathText='True')\n",
    "ax.ticklabel_format(axis='y', style='sci', scilimits=(0, 0), useMathText='True')\n",
    "\n",
    "\n",
    "plt.savefig('figs/rel_err_mul_hub.pdf', bbox_inches='tight')\n",
    "plt.show()"
   ]
  },
  {
   "cell_type": "code",
   "execution_count": null,
   "metadata": {},
   "outputs": [
    {
     "data": {
      "image/png": "[encoded data removed]",
      "text/plain": [
       "<Figure size 500x400 with 1 Axes>"
      ]
     },
     "metadata": {},
     "output_type": "display_data"
    }
   ],
   "source": [
    "fig = plt.figure(figsize=(5,4))\n",
    "ax = fig.add_subplot(111)\n",
    "ax.set_xlabel('Relative Error')\n",
    "ax.set_ylabel('Frequency')\n",
    "\n",
    "ax.set_title(r'$a\\times b \\in [2^{-48}, 2^{47}]$')\n",
    "ax.hist(mul_h, bins=60000, range=(r_min, r_max), alpha=0.5, label='HUB')#, color='b')\n",
    "ax.hist(mul_p, bins=60000, range=(r_min, r_max), alpha=0.5, label='Standard Posit16')#, color='b')\n",
    "\n",
    "xmax = 1e-02\n",
    "# xmax = 0.5\n",
    "xmin = -xmax\n",
    "ax.set_xlim(xmin, xmax)\n",
    "# ax.set_ylim(0, 3e5)\n",
    "\n",
    "ax.set_xticks(ticks=np.arange(xmin, xmax+1e-7, xmax/2))\n",
    "ax.ticklabel_format(axis='x', style='sci', scilimits=(0, 0), useMathText='True')\n",
    "ax.ticklabel_format(axis='y', style='sci', scilimits=(0, 0), useMathText='True')\n",
    "\n",
    "plt.legend()\n",
    "plt.savefig('figs/compare_err_mul_posit_30.pdf', bbox_inches='tight')\n",
    "plt.show()"
   ]
  }
 ],
 "metadata": {
  "kernelspec": {
   "display_name": "Python 3.8.10 ('venv': venv)",
   "language": "python",
   "name": "python3"
  },
  "language_info": {
   "codemirror_mode": {
    "name": "ipython",
    "version": 3
   },
   "file_extension": ".py",
   "mimetype": "text/x-python",
   "name": "python",
   "nbconvert_exporter": "python",
   "pygments_lexer": "ipython3",
   "version": "3.8.10"
  },
  "orig_nbformat": 4,
  "vscode": {
   "interpreter": {
    "hash": "5b482239a6963cb96b724a8f82fc1b51f41fe8dc4832b24a3179bffa9ba725a1"
   }
  }
 },
 "nbformat": 4,
 "nbformat_minor": 2
}
