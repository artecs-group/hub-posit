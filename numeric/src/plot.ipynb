{
 "cells": [
  {
   "cell_type": "code",
   "execution_count": 1,
   "metadata": {},
   "outputs": [],
   "source": [
    "import numpy as np\n",
    "import matplotlib.pyplot as plt\n",
    "import matplotlib.ticker as mtick"
   ]
  },
  {
   "attachments": {},
   "cell_type": "markdown",
   "metadata": {},
   "source": [
    "# Read data"
   ]
  },
  {
   "cell_type": "code",
   "execution_count": 3,
   "metadata": {},
   "outputs": [],
   "source": [
    "N = 1_000_000  # Samples per file"
   ]
  },
  {
   "cell_type": "code",
   "execution_count": 37,
   "metadata": {},
   "outputs": [],
   "source": [
    "FDIR = '../3_build_20/'  # build_bias build_unbias build_full build2\n",
    "COLS = 7  # 8\n",
    "\n",
    "\n",
    "# Load multiple executiuon files\n",
    "\n",
    "# a = np.empty((COLS, N*10*10), dtype='float64')\n",
    "# for i in range(10):\n",
    "#     for j in range(10):\n",
    "#         a[:, N*(i*10+j): N*(i*10+j+1)] = np.loadtxt(FDIR+'addition_16_' +\n",
    "#                                                     str(i)+'_'+str(j)+'.txt', delimiter=',', max_rows=N).T\n",
    "\n",
    "m = np.empty((COLS, N*10*10), dtype='float64')\n",
    "for i in range(10):\n",
    "    for j in range(10):\n",
    "        m[:, N*(i*10+j): N*(i*10+j+1)] = np.loadtxt(FDIR+'multiply_16_' +\n",
    "                                                    str(i)+'_'+str(j)+'.txt', delimiter=',', max_rows=N).T\n",
    "\n",
    "# c = np.empty((COLS, N*10*10), dtype='float64')\n",
    "# for i in range(10):\n",
    "#     for j in range(10):\n",
    "#         c[:, N*(i*10+j): N*(i*10+j+1)] = np.loadtxt(FDIR+'convert_16_' +\n",
    "#                                                     str(i)+'_'+str(j)+'.txt', delimiter=',', max_rows=N).T"
   ]
  },
  {
   "cell_type": "code",
   "execution_count": 27,
   "metadata": {},
   "outputs": [],
   "source": [
    "def snr(signal, sample):\n",
    "    return 10 * np.log10(np.mean(signal**2)\n",
    "                         / np.mean((signal-sample)**2))\n"
   ]
  },
  {
   "attachments": {},
   "cell_type": "markdown",
   "metadata": {},
   "source": [
    "### Addition"
   ]
  },
  {
   "cell_type": "code",
   "execution_count": 4,
   "metadata": {},
   "outputs": [
    {
     "name": "stdout",
     "output_type": "stream",
     "text": [
      "Posit  &        nan &        nan &        nan &        nan \\\\\n",
      "HUB    &        nan &        nan &        nan &        nan \\\\\n"
     ]
    }
   ],
   "source": [
    "for k, i in enumerate([a[3], a[4]]):\n",
    "    print(f\"{('Posit' if k == 0 else 'HUB'):<6} & {i.min():>10.3e} & {i.mean():>10.3e} & {i.max():>10.3e} & {i.std():>10.3e} \\\\\\\\\")\n"
   ]
  },
  {
   "cell_type": "code",
   "execution_count": 28,
   "metadata": {},
   "outputs": [
    {
     "name": "stdout",
     "output_type": "stream",
     "text": [
      "[-3.12328e-05 -6.10352e-05 -3.04878e-05  9.54198e-01 -2.38550e-02\n",
      " -1.00785e-01  1.00754e-01]\n",
      "[ 1.22547e-04  2.44141e-04  1.22309e-04 -9.92218e-01  1.94553e-03\n",
      " -2.78137e-01  2.78259e-01]\n",
      "[-1.99890e-03 -1.95312e-03 -3.90434e-03 -2.29008e-02  9.53244e-01\n",
      "  4.36520e+00 -4.36720e+00]\n",
      "[ 1.55568e-05  1.52588e-05  3.05772e-05  1.91571e-02 -9.65517e-01\n",
      " -2.81217e-02  2.81373e-02]\n",
      "0.99997649\n",
      "Posit  & -9.922e-01 &  4.921e-07 &  9.542e-01 &  2.475e-03 &  5.602e+01 \\\\\n",
      "HUB    & -9.655e-01 & -1.697e-05 &  9.532e-01 &  2.465e-03 &  5.600e+01 \\\\\n"
     ]
    }
   ],
   "source": [
    "# Remove 0's and cancellative subtractions\n",
    "aa = a[:, (a[0] != 0) & (a[1] != 0) & (a[2] != 0)]\n",
    "# aa = a[:, (a[1] != 0) & (a[2] != 0)]\n",
    "# Remove just cancellative subtractions\n",
    "# aa = a[:, ~(((a[1] == 0) & (a[2] != 0)) | ((a[1] != 0) & (a[2] == 0))) & ~((a[0] == 0) & (a[1] == 0) & (a[2] == 0))]\n",
    "# aa = a\n",
    "\n",
    "print(aa[:, np.argmax(aa[3])])\n",
    "print(aa[:, np.argmin(aa[3])])\n",
    "print(aa[:, np.argmax(aa[4])])\n",
    "print(aa[:, np.argmin(aa[4])])\n",
    "\n",
    "print(aa.shape[1]/a.shape[1])\n",
    "\n",
    "for k, i in enumerate([aa[3], aa[4]]):\n",
    "    print(\n",
    "        f\"{('Posit' if k == 0 else 'HUB'):<6} & {i.min():>10.3e} & {i.mean():>10.3e} & {i.max():>10.3e} & {i.std():>10.3e} & {snr(aa[0],aa[k+1]):>10.3e} \\\\\\\\\")\n",
    "\n",
    "# names = ['Posit', 'HUB', 'HUB_unbias']\n",
    "# for k, i in enumerate([aa[3], aa[4], aa[5]]):\n",
    "#     print(f\"{(names[k]):<11} & {i.min():>10.3e} & {i.mean():>10.3e} & {i.max():>10.3e} & {i.std():>10.3e} \\\\\\\\\")"
   ]
  },
  {
   "cell_type": "code",
   "execution_count": 7,
   "metadata": {},
   "outputs": [
    {
     "name": "stdout",
     "output_type": "stream",
     "text": [
      "Posit  & -9.033e-01 & -3.190e-07 &  9.922e-01 &  2.567e-03 \\\\\n",
      "HUB    & -9.636e-01 & -1.738e-05 &  8.926e-01 &  2.556e-03 \\\\\n"
     ]
    }
   ],
   "source": [
    "for k, i in enumerate([aa[3], aa[4]]):\n",
    "    print(f\"{('Posit' if k == 0 else 'HUB'):<6} & {i.min():>10.3e} & {i.mean():>10.3e} & {i.max():>10.3e} & {i.std():>10.3e} \\\\\\\\\")\n"
   ]
  },
  {
   "attachments": {},
   "cell_type": "markdown",
   "metadata": {},
   "source": [
    "### Multiplication"
   ]
  },
  {
   "attachments": {},
   "cell_type": "markdown",
   "metadata": {},
   "source": [
    "- `0_000000000000001_.` = $2^{-56}$\n",
    "- `0_00000000000001_0.` = $2^{-52}$\n",
    "- `0_0000000000001_00_` = $2^{-48}$\n",
    "- `0_0000000000001_11_` = $2^{-45}$\n",
    "- `0_000000000001_00_0` = $2^{-44}$\n",
    "- ...\n",
    "- `0_111111111110_11_1` = $2^{43}\\times 1.5$\n",
    "- `0_1111111111110_00_` = $2^{44}$\n",
    "- `0_1111111111110_11_` = $2^{47}$\n",
    "- `0_11111111111110_1.` = $2^{50}$\n",
    "- `0_111111111111110_.` = $2^{52}$\n",
    "- `0_111111111111111..` = $2^{56}$\n",
    "\n",
    "\n",
    "<font color=\"red\">This text is red!</font>\n",
    "<font color=\"blue\">This text is blue!</font>\n",
    "<font color=\"gold\">This text is gold!</font>\n",
    "<!-- <font color=\"black\">This text is black!</font> -->"
   ]
  },
  {
   "attachments": {},
   "cell_type": "markdown",
   "metadata": {},
   "source": [
    "- `0000000001100000` = $2^{-30}$\n",
    "- `0111111110100000` = $2^{+30}$\n",
    "\n",
    "\n",
    "- `0000000010000000` = $2^{-28}$\n",
    "- `0111111110000000` = $2^{+28}$\n",
    "\n",
    "\n",
    "- `0000001000000000` = $2^{-20}$\n",
    "- `0111111000000000` = $2^{+20}$\n",
    "\n",
    "\n",
    "- `0000010100000000` = $2^{-15}$\n",
    "- `0111101100000000` = $2^{+15}$\n",
    "\n",
    "\n",
    "- `0000110000000000` = $2^{-10}$\n",
    "- `0111010000000000` = $2^{+10}$"
   ]
  },
  {
   "cell_type": "code",
   "execution_count": 4,
   "metadata": {},
   "outputs": [
    {
     "name": "stdout",
     "output_type": "stream",
     "text": [
      "Posit  & -2.496e+03 &  5.766e-05 &  2.112e+03 &  7.811e-01 \\\\\n",
      "HUB    & -1.550e+02 & -7.923e-06 &  1.311e+02 &  5.168e-02 \\\\\n"
     ]
    }
   ],
   "source": [
    "# Input data in [2^{-30} , 2^{30}]\n",
    "for k, i in enumerate([m[3], m[4]]):\n",
    "    print(f\"{('Posit' if k == 0 else 'HUB'):<6} & {i.min():>10.3e} & {i.mean():>10.3e} & {i.max():>10.3e} & {i.std():>10.3e} \\\\\\\\\")\n"
   ]
  },
  {
   "cell_type": "code",
   "execution_count": 14,
   "metadata": {},
   "outputs": [
    {
     "name": "stdout",
     "output_type": "stream",
     "text": [
      "11.5747 14.3574 -11.2937 -15.1971\n",
      "[-1.10363e-18 -1.38778e-17 -8.67362e-19  1.15747e+01 -2.14079e-01\n",
      "  1.06024e-09 -1.04092e-09]\n",
      "[-7.50726e+16 -7.20576e+16 -1.15292e+18 -4.01608e-02  1.43574e+01\n",
      "  1.07078e+08 -7.01104e+08]\n",
      "[ 1.12885e-18  1.38778e-17  8.67362e-19 -1.12937e+01  2.31641e-01\n",
      "  1.08093e-09  1.04433e-09]\n",
      "[ 7.11809e+16  7.20576e+16  1.15292e+18 -1.23157e-02 -1.51971e+01\n",
      " -1.09666e+08 -6.49069e+08]\n",
      "1.38778e-17 , 7.20576e+16\n"
     ]
    }
   ],
   "source": [
    "print(m[3].max(), m[4].max(), m[3].min(), m[4].min())\n",
    "\n",
    "print(m[:, m[3].argmax()])\n",
    "print(m[:, m[4].argmax()])\n",
    "print(m[:, m[3].argmin()])\n",
    "print(m[:, m[4].argmin()])\n",
    "\n",
    "print(f'{2**-56:g} , {2**56:g}')"
   ]
  },
  {
   "cell_type": "code",
   "execution_count": 7,
   "metadata": {},
   "outputs": [
    {
     "name": "stdout",
     "output_type": "stream",
     "text": [
      "0.99999401\n",
      "Posit  & -3.050e+00 & -9.115e-07 &  3.041e+00 &  9.786e-03 \\\\\n",
      "HUB    & -1.520e+01 & -9.545e-06 &  3.013e+00 &  1.038e-02 \\\\\n"
     ]
    }
   ],
   "source": [
    "# [2^{-30} , 2^{30}] output restricted to [2^{-56} , 2^{56}]\n",
    "mm = m[:, ((2**-56) <= np.abs(m[0])) & (np.abs(m[0]) <= (2**56))]\n",
    "\n",
    "print(mm.shape[1]/m.shape[1])\n",
    "\n",
    "for k, i in enumerate([mm[3], mm[4]]):\n",
    "    print(f\"{('Posit' if k == 0 else 'HUB'):<6} & {i.min():>10.3e} & {i.mean():>10.3e} & {i.max():>10.3e} & {i.std():>10.3e} \\\\\\\\\")\n"
   ]
  },
  {
   "cell_type": "code",
   "execution_count": 7,
   "metadata": {},
   "outputs": [
    {
     "name": "stdout",
     "output_type": "stream",
     "text": [
      "Posit  & -3.064e+00 &  1.305e-06 &  2.977e+00 &  7.974e-03 \\\\\n",
      "HUB    & -3.000e+00 & -8.795e-06 &  2.938e+00 &  8.193e-03 \\\\\n"
     ]
    }
   ],
   "source": [
    "# [2^{-28} , 2^{+28}]\n",
    "for k, i in enumerate([m[3], m[4]]):\n",
    "    print(f\"{('Posit' if k == 0 else 'HUB'):<6} & {i.min():>10.3e} & {i.mean():>10.3e} & {i.max():>10.3e} & {i.std():>10.3e} \\\\\\\\\")\n"
   ]
  },
  {
   "cell_type": "code",
   "execution_count": 18,
   "metadata": {},
   "outputs": [
    {
     "name": "stdout",
     "output_type": "stream",
     "text": [
      "Posit  & -1.158e-01 &  9.290e-08 &  1.163e-01 &  1.951e-03 &  2.571e+01 \\\\\n",
      "HUB    & -1.298e-01 & -4.074e-06 &  1.302e-01 &  1.954e-03 &  2.581e+01 \\\\\n"
     ]
    }
   ],
   "source": [
    "# [2^{-20} , 2^{+20}] - Paper results\n",
    "for k, i in enumerate([m[3], m[4]]):\n",
    "    print(\n",
    "        f\"{('Posit' if k == 0 else 'HUB'):<6} & {i.min():>10.3e} & {i.mean():>10.3e} & {i.max():>10.3e} & {i.std():>10.3e} & {snr(m[0],m[k+1]):>10.3e} \\\\\\\\\")"
   ]
  },
  {
   "cell_type": "code",
   "execution_count": 14,
   "metadata": {},
   "outputs": [
    {
     "name": "stdout",
     "output_type": "stream",
     "text": [
      "Posit  & -3.233e-02 & -2.083e-07 &  3.223e-02 &  8.581e-04 \\\\\n",
      "HUB    & -3.224e-02 & -2.649e-06 &  3.223e-02 &  8.579e-04 \\\\\n"
     ]
    }
   ],
   "source": [
    "# [2^{-15} , 2^{15}]\n",
    "for k, i in enumerate([m[3], m[4]]):\n",
    "    print(f\"{('Posit' if k == 0 else 'HUB'):<6} & {i.min():>10.3e} & {i.mean():>10.3e} & {i.max():>10.3e} & {i.std():>10.3e} \\\\\\\\\")\n"
   ]
  },
  {
   "cell_type": "code",
   "execution_count": 4,
   "metadata": {},
   "outputs": [
    {
     "name": "stdout",
     "output_type": "stream",
     "text": [
      "Posit  & -3.211e-02 &  3.689e-08 &  3.262e-02 &  8.579e-04 \\\\\n",
      "HUB    & -3.297e-02 & -2.820e-06 &  3.357e-02 &  8.580e-04 \\\\\n"
     ]
    }
   ],
   "source": [
    "# [2^{-10} , 2^{10}]\n",
    "for k, i in enumerate([m[3], m[4]]):\n",
    "    print(f\"{('Posit' if k == 0 else 'HUB'):<6} & {i.min():>10.3e} & {i.mean():>10.3e} & {i.max():>10.3e} & {i.std():>10.3e} \\\\\\\\\")\n"
   ]
  },
  {
   "attachments": {},
   "cell_type": "markdown",
   "metadata": {},
   "source": [
    "Let us remove data that are not representable in Posit16, $|x| \\notin [2^{-56}, 2^{56}]$."
   ]
  },
  {
   "cell_type": "code",
   "execution_count": 61,
   "metadata": {},
   "outputs": [
    {
     "name": "stdout",
     "output_type": "stream",
     "text": [
      "1.387779e-17, 7.205759e+16\n",
      "[-6.56725e-21 -1.38778e-17 -8.67362e-19  2.11218e+03  1.31074e+02\n",
      " -1.09821e-10  5.97993e-11]\n",
      "[ 5.55843e-21  1.38778e-17  8.67362e-19 -2.49571e+03 -1.55044e+02\n",
      "  6.42899e-11  8.64588e-11]\n"
     ]
    }
   ],
   "source": [
    "print(f'{2**-56:e}, {2**56:e}')\n",
    "print(m[:, np.argmax(m[3])])\n",
    "print(m[:, np.argmin(m[3])])"
   ]
  },
  {
   "cell_type": "code",
   "execution_count": 5,
   "metadata": {},
   "outputs": [
    {
     "name": "stdout",
     "output_type": "stream",
     "text": [
      "0.99997717\n",
      "Posit  & -3.127e+00 & -1.708e-06 &  3.167e+00 &  1.178e-02 \\\\\n",
      "HUB    & -1.539e+01 & -9.875e-06 &  3.038e+00 &  1.223e-02 \\\\\n"
     ]
    }
   ],
   "source": [
    "mm = m[:, ((2**-56) <= np.abs(m[0])) & (np.abs(m[0]) <= (2**56))]\n",
    "\n",
    "print(mm.shape[1]/m.shape[1])\n",
    "\n",
    "for k, i in enumerate([mm[3], mm[4]]):\n",
    "    print(f\"{('Posit' if k == 0 else 'HUB'):<6} & {i.min():>10.3e} & {i.mean():>10.3e} & {i.max():>10.3e} & {i.std():>10.3e} \\\\\\\\\")\n"
   ]
  },
  {
   "cell_type": "code",
   "execution_count": 6,
   "metadata": {},
   "outputs": [
    {
     "name": "stdout",
     "output_type": "stream",
     "text": [
      "0.99996802\n",
      "Posit  & -3.127e+00 & -1.689e-06 &  3.167e+00 &  1.171e-02 \\\\\n",
      "HUB    & -2.996e+00 & -9.834e-06 &  3.038e+00 &  1.096e-02 \\\\\n"
     ]
    }
   ],
   "source": [
    "mm = m[:, ((2**-55) <= np.abs(m[0])) & (np.abs(m[0]) <= (2**55))]\n",
    "\n",
    "print(mm.shape[1]/m.shape[1])\n",
    "\n",
    "for k, i in enumerate([mm[3], mm[4]]):\n",
    "    print(f\"{('Posit' if k == 0 else 'HUB'):<6} & {i.min():>10.3e} & {i.mean():>10.3e} & {i.max():>10.3e} & {i.std():>10.3e} \\\\\\\\\")\n"
   ]
  },
  {
   "cell_type": "code",
   "execution_count": 7,
   "metadata": {},
   "outputs": [
    {
     "name": "stdout",
     "output_type": "stream",
     "text": [
      "0.9999563\n",
      "Posit  & -3.041e+00 & -1.674e-06 &  2.998e+00 &  1.096e-02 \\\\\n",
      "HUB    & -2.996e+00 & -9.626e-06 &  3.038e+00 &  1.084e-02 \\\\\n"
     ]
    }
   ],
   "source": [
    "mm = m[:, ((2**-54) <= np.abs(m[0])) & (np.abs(m[0]) <= (2**54))]\n",
    "\n",
    "print(mm.shape[1]/m.shape[1])\n",
    "\n",
    "for k, i in enumerate([mm[3], mm[4]]):\n",
    "    print(f\"{('Posit' if k == 0 else 'HUB'):<6} & {i.min():>10.3e} & {i.mean():>10.3e} & {i.max():>10.3e} & {i.std():>10.3e} \\\\\\\\\")\n"
   ]
  },
  {
   "cell_type": "code",
   "execution_count": 8,
   "metadata": {},
   "outputs": [
    {
     "name": "stdout",
     "output_type": "stream",
     "text": [
      "0.99994073\n",
      "Posit  & -1.061e+00 & -1.061e-06 &  1.070e+00 &  8.859e-03 \\\\\n",
      "HUB    & -2.996e+00 & -9.858e-06 &  3.038e+00 &  1.073e-02 \\\\\n"
     ]
    }
   ],
   "source": [
    "mm = m[:, ((2**-53) <= np.abs(m[0])) & (np.abs(m[0]) <= (2**53))]\n",
    "\n",
    "print(mm.shape[1]/m.shape[1])\n",
    "\n",
    "for k, i in enumerate([mm[3], mm[4]]):\n",
    "    print(f\"{('Posit' if k == 0 else 'HUB'):<6} & {i.min():>10.3e} & {i.mean():>10.3e} & {i.max():>10.3e} & {i.std():>10.3e} \\\\\\\\\")\n"
   ]
  },
  {
   "cell_type": "code",
   "execution_count": 9,
   "metadata": {},
   "outputs": [
    {
     "name": "stdout",
     "output_type": "stream",
     "text": [
      "0.99990204\n",
      "Posit  & -1.061e+00 & -1.021e-06 &  1.043e+00 &  8.501e-03 \\\\\n",
      "HUB    & -1.048e+00 & -9.342e-06 &  3.038e+00 &  8.701e-03 \\\\\n"
     ]
    }
   ],
   "source": [
    "mm = m[:, ((2**-51) <= np.abs(m[0])) & (np.abs(m[0]) <= (2**52))]\n",
    "\n",
    "print(mm.shape[1]/m.shape[1])\n",
    "\n",
    "for k, i in enumerate([mm[3], mm[4]]):\n",
    "    print(f\"{('Posit' if k == 0 else 'HUB'):<6} & {i.min():>10.3e} & {i.mean():>10.3e} & {i.max():>10.3e} & {i.std():>10.3e} \\\\\\\\\")\n"
   ]
  },
  {
   "cell_type": "code",
   "execution_count": 12,
   "metadata": {},
   "outputs": [
    {
     "data": {
      "text/plain": [
       "array([-4.46103e+15, -4.50360e+15, -1.80144e+16,  9.54236e-03,\n",
       "        3.03817e+00,  3.36200e+08, -1.32690e+07])"
      ]
     },
     "execution_count": 12,
     "metadata": {},
     "output_type": "execute_result"
    }
   ],
   "source": [
    "mm[4].max()\n",
    "mm[:, mm[4].argmax()]"
   ]
  },
  {
   "cell_type": "code",
   "execution_count": 6,
   "metadata": {},
   "outputs": [
    {
     "name": "stdout",
     "output_type": "stream",
     "text": [
      "0.99970839\n",
      "Posit  & -3.877e-01 & -3.407e-07 &  3.827e-01 &  6.467e-03 \\\\\n",
      "HUB    & -5.684e-01 & -8.448e-06 &  5.648e-01 &  6.879e-03 \\\\\n"
     ]
    }
   ],
   "source": [
    "mm = m[:, ((2**-48)*1.5 <= np.abs(m[0])) & (np.abs(m[0]) <= (2**47))]\n",
    "\n",
    "print(mm.shape[1]/m.shape[1])\n",
    "\n",
    "for k, i in enumerate([mm[3], mm[4]]):\n",
    "    print(f\"{('Posit' if k == 0 else 'HUB'):<6} & {i.min():>10.3e} & {i.mean():>10.3e} & {i.max():>10.3e} & {i.std():>10.3e} \\\\\\\\\")\n"
   ]
  },
  {
   "cell_type": "code",
   "execution_count": 25,
   "metadata": {},
   "outputs": [
    {
     "name": "stdout",
     "output_type": "stream",
     "text": [
      "0.9981841\n",
      "Posit  & -1.643e-01 &  7.154e-08 &  1.551e-01 &  4.061e-03 \\\\\n",
      "HUB    & -1.907e-01 & -6.801e-06 &  1.751e-01 &  4.081e-03 \\\\\n"
     ]
    }
   ],
   "source": [
    "mm = m[:, ((2**-40) <= np.abs(m[0])) & (np.abs(m[0]) <= (2**39)*1.125)]\n",
    "\n",
    "print(mm.shape[1]/m.shape[1])\n",
    "\n",
    "for k, i in enumerate([mm[3], mm[4]]):\n",
    "    print(f\"{('Posit' if k == 0 else 'HUB'):<6} & {i.min():>10.3e} & {i.mean():>10.3e} & {i.max():>10.3e} & {i.std():>10.3e} \\\\\\\\\")\n"
   ]
  },
  {
   "cell_type": "code",
   "execution_count": 31,
   "metadata": {},
   "outputs": [
    {
     "name": "stdout",
     "output_type": "stream",
     "text": [
      "0.17511 39391176 9.313225746154785e-10 1073741824\n"
     ]
    },
    {
     "data": {
      "text/plain": [
       "array([-3.48285e-12, -3.63798e-12, -4.09273e-12,  4.45418e-02,\n",
       "        1.75110e-01,  6.55405e-11, -5.31404e-02])"
      ]
     },
     "execution_count": 31,
     "metadata": {},
     "output_type": "execute_result"
    }
   ],
   "source": [
    "print(mm[4].max(), mm[4].argmax(), 2**-30, 2**30)\n",
    "mm[:, mm[4].argmax()]"
   ]
  },
  {
   "cell_type": "code",
   "execution_count": 22,
   "metadata": {},
   "outputs": [
    {
     "name": "stdout",
     "output_type": "stream",
     "text": [
      "0.98566204\n",
      "Posit  & -8.385e-02 &  1.862e-07 &  8.662e-02 &  2.165e-03 \\\\\n",
      "HUB    & -9.140e-02 & -4.751e-06 &  8.136e-02 &  2.165e-03 \\\\\n"
     ]
    }
   ],
   "source": [
    "mm = m[:, ((2**-30) <= np.abs(m[0])) & (np.abs(m[0]) <= (2**30))]\n",
    "\n",
    "print(mm.shape[1]/m.shape[1])\n",
    "\n",
    "for k, i in enumerate([mm[3], mm[4]]):\n",
    "    print(f\"{('Posit' if k == 0 else 'HUB'):<6} & {i.min():>10.3e} & {i.mean():>10.3e} & {i.max():>10.3e} & {i.std():>10.3e} \\\\\\\\\")\n"
   ]
  },
  {
   "cell_type": "code",
   "execution_count": 44,
   "metadata": {},
   "outputs": [
    {
     "name": "stdout",
     "output_type": "stream",
     "text": [
      "1.387779e-17, 7.205759e+16\n",
      "[-1.76766e+16 -7.20576e+16 -1.80144e+16  3.07644e+00  1.91109e-02\n",
      "  2.56635e+07 -6.88783e+08]\n",
      "[ 5.32998e-17  2.22045e-16  5.55112e-17 -3.16595e+00 -4.14882e-02\n",
      "  6.26130e-11  8.51258e-07]\n",
      "[-7.19672e+16 -7.20576e+16 -1.15292e+18  1.25548e-03  1.50201e+01\n",
      " -1.25731e+08  5.72391e+08]\n",
      "[ 4.45444e+15  4.50360e+15  1.80144e+16 -1.10368e-02 -3.04415e+00\n",
      "  1.15144e+07  3.86859e+08]\n"
     ]
    }
   ],
   "source": [
    "print(f'{2**-56:e}, {2**56:e}')\n",
    "print(mm[:, np.argmax(mm[3])])\n",
    "print(mm[:, np.argmin(mm[3])])\n",
    "print(mm[:, np.argmax(mm[4])])\n",
    "print(mm[:, np.argmin(mm[4])])"
   ]
  },
  {
   "attachments": {},
   "cell_type": "markdown",
   "metadata": {},
   "source": [
    "Let us remove points $x$ that apply HUB on the regime, i.e. $x \\notin [-2^{56}, -2^{-52}] \\cup [2^{-56}, 2^{52}]$.  \n",
    "**REMARK:** The only *all regime cases* are `01...1` and `11...1`; i.e., $maxpos$ and $-minpos$"
   ]
  },
  {
   "cell_type": "code",
   "execution_count": 5,
   "metadata": {},
   "outputs": [
    {
     "name": "stdout",
     "output_type": "stream",
     "text": [
      "0.99994867\n",
      "Posit  & -3.127e+00 & -9.498e-06 &  2.996e+00 &  1.033e-02 \\\\\n",
      "HUB    & -2.992e+00 & -4.521e-06 &  3.038e+00 &  1.056e-02 \\\\\n"
     ]
    }
   ],
   "source": [
    "mm = m[:, ((m[0] > 0) & ((2**-56) <= (m[0])) & ((m[0]) <= (2**52)))\n",
    "       | ((m[0] < 0) & ((-2**-52) >= (m[0])) & ((m[0]) >= (-2**56)))]\n",
    "\n",
    "print(mm.shape[1]/m.shape[1])\n",
    "\n",
    "for k, i in enumerate([mm[3], mm[4]]):\n",
    "    print(f\"{('Posit' if k == 0 else 'HUB'):<6} & {i.min():>10.3e} & {i.mean():>10.3e} & {i.max():>10.3e} & {i.std():>10.3e} \\\\\\\\\")"
   ]
  },
  {
   "cell_type": "code",
   "execution_count": 48,
   "metadata": {},
   "outputs": [
    {
     "name": "stdout",
     "output_type": "stream",
     "text": [
      "-7.205759e+16, -2.220446e-16, 1.387779e-17, 4.503600e+15\n",
      "[-1.76766e+16 -7.20576e+16 -1.80144e+16  3.07644e+00  1.91109e-02\n",
      "  2.56635e+07 -6.88783e+08]\n",
      "[ 5.32998e-17  2.22045e-16  5.55112e-17 -3.16595e+00 -4.14882e-02\n",
      "  6.26130e-11  8.51258e-07]\n",
      "[-7.19672e+16 -7.20576e+16 -1.15292e+18  1.25548e-03  1.50201e+01\n",
      " -1.25731e+08  5.72391e+08]\n",
      "[ 4.45444e+15  4.50360e+15  1.80144e+16 -1.10368e-02 -3.04415e+00\n",
      "  1.15144e+07  3.86859e+08]\n"
     ]
    }
   ],
   "source": [
    "print(f'{-2**56:e}, {-2**-52:e}, {2**-56:e}, {2**52:e}')\n",
    "print(mm[:, np.argmax(mm[3])])\n",
    "print(mm[:, np.argmin(mm[3])])\n",
    "print(mm[:, np.argmax(mm[4])])\n",
    "print(mm[:, np.argmin(mm[4])])"
   ]
  },
  {
   "attachments": {},
   "cell_type": "markdown",
   "metadata": {},
   "source": [
    "Let us remove points $x$ that only have regime, i.e. $|x| \\notin [2^{-56}, 2^{52}]$."
   ]
  },
  {
   "cell_type": "code",
   "execution_count": 7,
   "metadata": {},
   "outputs": [
    {
     "name": "stdout",
     "output_type": "stream",
     "text": [
      "0.99995888\n",
      "Posit  & -3.127e+00 & -1.044e-06 &  3.167e+00 &  1.107e-02 \\\\\n",
      "HUB    & -2.992e+00 & -9.322e-06 &  3.038e+00 &  1.062e-02 \\\\\n"
     ]
    }
   ],
   "source": [
    "mm = m[:, ((2**-56) <= np.abs(m[0])) & (np.abs(m[0]) <= (2**52))]\n",
    "\n",
    "print(mm.shape[1]/m.shape[1])\n",
    "\n",
    "for k, i in enumerate([mm[3], mm[4]]):\n",
    "    print(f\"{('Posit' if k == 0 else 'HUB'):<6} & {i.min():>10.3e} & {i.mean():>10.3e} & {i.max():>10.3e} & {i.std():>10.3e} \\\\\\\\\")\n"
   ]
  },
  {
   "attachments": {},
   "cell_type": "markdown",
   "metadata": {},
   "source": [
    "Let us remove points $x$ that doesn't have explicit exponent bits, i.e. $|x| \\notin [2^{-54}, 2^{50}]$."
   ]
  },
  {
   "cell_type": "code",
   "execution_count": 57,
   "metadata": {},
   "outputs": [
    {
     "name": "stdout",
     "output_type": "stream",
     "text": [
      "0.99992125\n",
      "Posit  & -2.995e+00 & -1.385e-06 &  2.998e+00 &  1.064e-02 \\\\\n",
      "HUB    & -1.086e+00 & -8.758e-06 &  1.040e+00 &  9.066e-03 \\\\\n"
     ]
    }
   ],
   "source": [
    "mm = m[:, ((2**-54) <= np.abs(m[0])) & (np.abs(m[0]) <= (2**50))]\n",
    "\n",
    "print(mm.shape[1]/m.shape[1])\n",
    "\n",
    "for k, i in enumerate([mm[3], mm[4]]):\n",
    "    print(f\"{('Posit' if k == 0 else 'HUB'):<6} & {i.min():>10.3e} & {i.mean():>10.3e} & {i.max():>10.3e} & {i.std():>10.3e} \\\\\\\\\")\n"
   ]
  },
  {
   "cell_type": "code",
   "execution_count": 6,
   "metadata": {},
   "outputs": [
    {
     "name": "stdout",
     "output_type": "stream",
     "text": [
      "0.99988811\n",
      "Posit  & -1.061e+00 & -2.531e-06 &  1.043e+00 &  8.265e-03 \\\\\n",
      "HUB    & -1.048e+00 & -7.762e-06 &  3.038e+00 &  8.616e-03 \\\\\n"
     ]
    }
   ],
   "source": [
    "# This is the real data range for posits with explicit exponent bits\n",
    "mm = m[:, ((m[0] < 0) & ((-2**52) <= (m[0])) & ((m[0]) <= (-2**-50)))\n",
    "       | ((m[0] > 0) & ((2**-52) <= (m[0])) & ((m[0]) <= (2**50)))]\n",
    "\n",
    "print(mm.shape[1]/m.shape[1])\n",
    "\n",
    "for k, i in enumerate([mm[3], mm[4]]):\n",
    "    print(f\"{('Posit' if k == 0 else 'HUB'):<6} & {i.min():>10.3e} & {i.mean():>10.3e} & {i.max():>10.3e} & {i.std():>10.3e} \\\\\\\\\")"
   ]
  },
  {
   "attachments": {},
   "cell_type": "markdown",
   "metadata": {},
   "source": [
    "Let us remove points $x$ that apply HUB on the exponent, i.e. $|x| \\notin [2^{-48}, 2^{47}]$."
   ]
  },
  {
   "cell_type": "code",
   "execution_count": 7,
   "metadata": {},
   "outputs": [
    {
     "name": "stdout",
     "output_type": "stream",
     "text": [
      "3.552714e-15, 1.407375e+14\n",
      "2.842171e-14, 1.759219e+13\n",
      "[-6.56725e-21 -1.38778e-17 -8.67362e-19  2.11218e+03  1.31074e+02\n",
      " -1.09821e-10  5.97993e-11]\n",
      "[ 5.55843e-21  1.38778e-17  8.67362e-19 -2.49571e+03 -1.55044e+02\n",
      "  6.42899e-11  8.64588e-11]\n"
     ]
    }
   ],
   "source": [
    "print(f'{2**-48:e}, {2**47:e}')\n",
    "print(f'{2**-45:e}, {2**44:e}')\n",
    "\n",
    "print(m[:, np.argmax(m[3])])\n",
    "print(m[:, np.argmin(m[3])])\n",
    "# print(m[:,np.argmax(m[4])])   # Same output\n",
    "# print(m[:,np.argmin(m[4])])   # Same output"
   ]
  },
  {
   "cell_type": "code",
   "execution_count": 8,
   "metadata": {},
   "outputs": [
    {
     "name": "stdout",
     "output_type": "stream",
     "text": [
      "0.99942968\n",
      "Posit  & -3.780e-01 & -1.369e-07 &  3.827e-01 &  5.572e-03 \\\\\n",
      "HUB    & -5.253e-01 & -7.955e-06 &  5.123e-01 &  5.768e-03 \\\\\n"
     ]
    }
   ],
   "source": [
    "mm = m[:, ((2**-45) <= np.abs(m[0])) & (np.abs(m[0]) <= (2**44))]\n",
    "\n",
    "print(mm.shape[1]/m.shape[1])\n",
    "\n",
    "for k, i in enumerate([mm[3], mm[4]]):\n",
    "    print(f\"{('Posit' if k == 0 else 'HUB'):<6} & {i.min():>10.3e} & {i.mean():>10.3e} & {i.max():>10.3e} & {i.std():>10.3e} \\\\\\\\\")\n"
   ]
  },
  {
   "cell_type": "code",
   "execution_count": 9,
   "metadata": {},
   "outputs": [
    {
     "name": "stdout",
     "output_type": "stream",
     "text": [
      "0.99938395\n",
      "Posit  & -2.526e-01 &  2.579e-07 &  2.549e-01 &  5.316e-03 \\\\\n",
      "HUB    & -5.253e-01 & -8.223e-06 &  5.123e-01 &  5.672e-03 \\\\\n"
     ]
    }
   ],
   "source": [
    "# Midpoint\n",
    "mm = m[:, ((2**-45)*1.75 <= np.abs(m[0])) & (np.abs(m[0]) <= (2**44)*1.25)]\n",
    "\n",
    "print(mm.shape[1]/m.shape[1])\n",
    "\n",
    "for k, i in enumerate([mm[3], mm[4]]):\n",
    "    print(f\"{('Posit' if k == 0 else 'HUB'):<6} & {i.min():>10.3e} & {i.mean():>10.3e} & {i.max():>10.3e} & {i.std():>10.3e} \\\\\\\\\")\n"
   ]
  },
  {
   "cell_type": "code",
   "execution_count": 10,
   "metadata": {},
   "outputs": [
    {
     "name": "stdout",
     "output_type": "stream",
     "text": [
      "0.99997157\n",
      "Posit  & -3.127e+00 & -8.438e-07 &  3.167e+00 &  1.116e-02 \\\\\n",
      "HUB    & -3.077e+00 & -1.026e-05 &  3.038e+00 &  1.212e-02 \\\\\n"
     ]
    }
   ],
   "source": [
    "# Midpoint\n",
    "mm = m[:, ((2**-57) <= np.abs(m[0])) & (np.abs(m[0]) <= (2**53))]\n",
    "\n",
    "print(mm.shape[1]/m.shape[1])\n",
    "\n",
    "for k, i in enumerate([mm[3], mm[4]]):\n",
    "    print(f\"{('Posit' if k == 0 else 'HUB'):<6} & {i.min():>10.3e} & {i.mean():>10.3e} & {i.max():>10.3e} & {i.std():>10.3e} \\\\\\\\\")\n"
   ]
  },
  {
   "attachments": {},
   "cell_type": "markdown",
   "metadata": {},
   "source": [
    "Let us remove points $x$ so that $|x| \\notin [2^{-30}, 2^{30}]$."
   ]
  },
  {
   "cell_type": "code",
   "execution_count": 60,
   "metadata": {},
   "outputs": [
    {
     "name": "stdout",
     "output_type": "stream",
     "text": [
      "0.98566204\n",
      "Posit  & -8.385e-02 &  1.862e-07 &  8.662e-02 &  2.165e-03 \\\\\n",
      "HUB    & -9.140e-02 & -4.751e-06 &  8.136e-02 &  2.165e-03 \\\\\n"
     ]
    }
   ],
   "source": [
    "mm = m[:, ((2**-30) <= np.abs(m[0])) & (np.abs(m[0]) <= (2**30))]\n",
    "\n",
    "print(mm.shape[1]/m.shape[1])\n",
    "\n",
    "for k, i in enumerate([mm[3], mm[4]]):\n",
    "    print(f\"{('Posit' if k == 0 else 'HUB'):<6} & {i.min():>10.3e} & {i.mean():>10.3e} & {i.max():>10.3e} & {i.std():>10.3e} \\\\\\\\\")\n"
   ]
  },
  {
   "attachments": {},
   "cell_type": "markdown",
   "metadata": {},
   "source": [
    "Let us remove points $x$ so that $|x| \\notin [2^{-40}, 2^{40}]$."
   ]
  },
  {
   "cell_type": "code",
   "execution_count": 17,
   "metadata": {},
   "outputs": [
    {
     "name": "stdout",
     "output_type": "stream",
     "text": [
      "0.99815114\n",
      "Posit  & -1.643e-01 &  6.873e-08 &  1.551e-01 &  4.043e-03 \\\\\n",
      "HUB    & -1.907e-01 & -6.777e-06 &  1.751e-01 &  4.062e-03 \\\\\n"
     ]
    }
   ],
   "source": [
    "mm = m[:, ((2**-40) <= np.abs(m[0])) & (np.abs(m[0]) <= (2**39))]\n",
    "\n",
    "print(mm.shape[1]/m.shape[1])\n",
    "\n",
    "for k, i in enumerate([mm[3], mm[4]]):\n",
    "    print(f\"{('Posit' if k == 0 else 'HUB'):<6} & {i.min():>10.3e} & {i.mean():>10.3e} & {i.max():>10.3e} & {i.std():>10.3e} \\\\\\\\\")\n"
   ]
  },
  {
   "attachments": {},
   "cell_type": "markdown",
   "metadata": {},
   "source": [
    "### Conversion"
   ]
  },
  {
   "cell_type": "code",
   "execution_count": 135,
   "metadata": {},
   "outputs": [
    {
     "name": "stdout",
     "output_type": "stream",
     "text": [
      "Posit  & -5.882e-02 &  8.503e-08 &  5.882e-02 &  1.197e-03 \\\\\n",
      "HUB    & -6.250e-02 & -2.529e-06 &  6.198e-02 &  1.199e-03 \\\\\n"
     ]
    }
   ],
   "source": [
    "for k, i in enumerate([c[3], c[4]]):\n",
    "    print(f\"{('Posit' if k == 0 else 'HUB'):<6} & {i.min():>10.3e} & {i.mean():>10.3e} & {i.max():>10.3e} & {i.std():>10.3e} \\\\\\\\\")\n"
   ]
  },
  {
   "cell_type": "code",
   "execution_count": 4,
   "metadata": {},
   "outputs": [
    {
     "name": "stdout",
     "output_type": "stream",
     "text": [
      "Posit       & -3.891e-03 & -5.405e-08 &  3.891e-03 &  3.987e-04 \\\\\n",
      "HUB         & -7.812e-03 & -1.751e-06 &  3.876e-03 &  3.987e-04 \\\\\n",
      "HUB_unbias  & -7.812e-03 & -4.102e-08 &  3.876e-03 &  3.987e-04 \\\\\n"
     ]
    }
   ],
   "source": [
    "names = ['Posit', 'HUB', 'HUB_unbias']\n",
    "for k, i in enumerate([c[3], c[4], c[5]]):\n",
    "    print(\n",
    "        f\"{(names[k]):<11} & {i.min():>10.3e} & {i.mean():>10.3e} & {i.max():>10.3e} & {i.std():>10.3e} \\\\\\\\\")"
   ]
  },
  {
   "cell_type": "code",
   "execution_count": 178,
   "metadata": {},
   "outputs": [],
   "source": [
    "# del(a)\n",
    "# del(m)\n",
    "# # del(mm)\n",
    "# del(c)\n"
   ]
  },
  {
   "cell_type": "code",
   "execution_count": 68,
   "metadata": {},
   "outputs": [],
   "source": [
    "# y = np.loadtxt('../build/add28.txt', delimiter=',').T\n",
    "# z = np.loadtxt('../build/conv32.txt', delimiter=',').T\n",
    "# z = np.loadtxt('../build/add32.txt', delimiter=',').T\n",
    "\n",
    "# z = np.loadtxt('../build/add32_.txt', delimiter=',', max_rows=10000000).T\n",
    "# y = np.loadtxt('../build/mul32_.txt', delimiter=',', max_rows=10000000).T\n",
    "# v = np.loadtxt('../build/conv32_.txt', delimiter=',', max_rows=10000000).T\n",
    "\n",
    "z = np.loadtxt('../build/add16_.txt', delimiter=',', max_rows=10000000).T\n",
    "y = np.loadtxt('../build/mul16_.txt', delimiter=',', max_rows=10000000).T\n",
    "v = np.loadtxt('../build/conv16_.txt', delimiter=',', max_rows=10000000).T\n",
    "\n",
    "# z[0]: Exact result\n",
    "# z[1]: Posit result\n",
    "# z[2]: HUB result\n",
    "# z[3]: Posit error\n",
    "# z[4]: HUB error\n"
   ]
  },
  {
   "cell_type": "code",
   "execution_count": 3,
   "metadata": {},
   "outputs": [],
   "source": [
    "a = np.loadtxt('../build/add.txt', delimiter=',').T\n",
    "m = np.loadtxt('../build/mul.txt', delimiter=',').T\n",
    "c = np.loadtxt('../build/conv.txt', delimiter=',').T\n"
   ]
  },
  {
   "cell_type": "code",
   "execution_count": 324,
   "metadata": {},
   "outputs": [
    {
     "name": "stdout",
     "output_type": "stream",
     "text": [
      "Format &        min &       mean &        max &        std \\\\\n",
      "Posit  & -4.191e-09 &  1.653e-12 &  4.191e-09 &  1.349e-09 \\\\\n",
      "HUB    & -4.657e-09 & -6.168e-10 &  2.794e-09 &  1.290e-09 \\\\\n",
      "Posit  & -5.389e-09 &  1.214e-12 &  5.340e-09 &  8.572e-10 \\\\\n",
      "HUB    & -5.299e-09 & -1.054e-12 &  5.427e-09 &  8.591e-10 \\\\\n",
      "Posit  & -1.863e-09 &  5.807e-13 &  1.863e-09 &  8.128e-10 \\\\\n",
      "HUB    & -1.863e-09 & -9.018e-13 &  1.863e-09 &  8.129e-10 \\\\\n"
     ]
    }
   ],
   "source": [
    "print(f\"{'Format':<6} & {'min':>10} & {'mean':>10} & {'max':>10} & {'std':>10} \\\\\\\\\")\n",
    "\n",
    "for k, i in enumerate(a):\n",
    "    print(f\"{('Posit' if k == 0 else 'HUB'):<6} & {i.min():>10.3e} & {i.mean():>10.3e} & {i.max():>10.3e} & {i.std():>10.3e} \\\\\\\\\")\n",
    "\n",
    "for k, i in enumerate(m):\n",
    "    print(f\"{('Posit' if k == 0 else 'HUB'):<6} & {i.min():>10.3e} & {i.mean():>10.3e} & {i.max():>10.3e} & {i.std():>10.3e} \\\\\\\\\")\n",
    "\n",
    "for k, i in enumerate(c):\n",
    "    print(f\"{('Posit' if k == 0 else 'HUB'):<6} & {i.min():>10.3e} & {i.mean():>10.3e} & {i.max():>10.3e} & {i.std():>10.3e} \\\\\\\\\")\n"
   ]
  },
  {
   "attachments": {},
   "cell_type": "markdown",
   "metadata": {},
   "source": [
    "# Plot results"
   ]
  },
  {
   "cell_type": "code",
   "execution_count": 248,
   "metadata": {},
   "outputs": [],
   "source": [
    "# set font of all elements to size 15\n",
    "plt.rc('font', size=14)"
   ]
  },
  {
   "attachments": {},
   "cell_type": "markdown",
   "metadata": {},
   "source": [
    "## Addition"
   ]
  },
  {
   "cell_type": "code",
   "execution_count": 29,
   "metadata": {},
   "outputs": [
    {
     "name": "stdout",
     "output_type": "stream",
     "text": [
      "(-0.992218, 0.954198) U (-0.965517, 0.953244) =\n"
     ]
    },
    {
     "data": {
      "text/plain": [
       "(-0.992218, 0.954198)"
      ]
     },
     "execution_count": 29,
     "metadata": {},
     "output_type": "execute_result"
    }
   ],
   "source": [
    "add_p = aa[3]\n",
    "add_h = aa[4]\n",
    "\n",
    "del (a)\n",
    "del (aa)\n",
    "\n",
    "print((np.min(add_p), np.max(add_p)), \"U\", (np.min(add_h), np.max(add_h)), \"=\")\n",
    "r_min = min(np.min(add_p), np.min(add_h))\n",
    "r_max = max(np.max(add_p), np.max(add_h))\n",
    "r_min, r_max"
   ]
  },
  {
   "cell_type": "code",
   "execution_count": 130,
   "metadata": {},
   "outputs": [
    {
     "name": "stdout",
     "output_type": "stream",
     "text": [
      "5892496\n",
      "5958939\n"
     ]
    }
   ],
   "source": [
    "for frmt in [add_p, add_h]:\n",
    "    print(np.histogram(frmt, bins=60000, range=(r_min, r_max))[0].max())"
   ]
  },
  {
   "cell_type": "code",
   "execution_count": 34,
   "metadata": {},
   "outputs": [
    {
     "data": {
      "image/png": "[encoded data removed]",
      "text/plain": [
       "<Figure size 500x300 with 1 Axes>"
      ]
     },
     "metadata": {},
     "output_type": "display_data"
    }
   ],
   "source": [
    "fig = plt.figure(figsize=(5, 3))\n",
    "ax = fig.add_subplot(111)\n",
    "ax.set_xlabel('Relative Error')\n",
    "ax.set_ylabel('Frequency')\n",
    "\n",
    "# ax.set_title('Posit32')\n",
    "xmax = 1e-02\n",
    "xmin = -xmax\n",
    "# ax.hist(add_p, bins=60000, range=(r_min, r_max), color='#1f77b4')\n",
    "# ax.set_ylim(0, 6e6)\n",
    "ax.hist(add_p, bins=500, range=(xmin, xmax),\n",
    "        histtype='stepfilled', color='#1f77b4')\n",
    "ax.set_ylim(0, 8e6)\n",
    "\n",
    "ax.set_xlim(xmin, xmax)\n",
    "\n",
    "ax.tick_params(direction='inout')\n",
    "ax.set_xticks(ticks=np.arange(xmin, xmax+1e-7, xmax/2))\n",
    "ax.ticklabel_format(axis='x', style='sci',\n",
    "                    scilimits=(0, 0), useMathText='True')\n",
    "ax.ticklabel_format(axis='y', style='sci',\n",
    "                    scilimits=(0, 0), useMathText='True')\n",
    "\n",
    "\n",
    "plt.savefig('figs/rel_err_add_posit.pdf', bbox_inches='tight')\n",
    "plt.show()"
   ]
  },
  {
   "cell_type": "code",
   "execution_count": 35,
   "metadata": {},
   "outputs": [
    {
     "data": {
      "image/png": "[encoded data removed]",
      "text/plain": [
       "<Figure size 500x300 with 1 Axes>"
      ]
     },
     "metadata": {},
     "output_type": "display_data"
    }
   ],
   "source": [
    "fig = plt.figure(figsize=(5, 3))\n",
    "ax = fig.add_subplot(111)\n",
    "ax.set_xlabel('Relative Error')\n",
    "ax.set_ylabel('Frequency')\n",
    "\n",
    "# ax.set_title('Posit32 HUB')\n",
    "xmax = 1e-02\n",
    "xmin = -xmax\n",
    "# ax.hist(add_h, bins=60000, range=(r_min, r_max), color='#ff7f0e')\n",
    "# ax.set_ylim(0, 6e6)\n",
    "ax.hist(add_h, bins=500, range=(xmin, xmax),\n",
    "        histtype='stepfilled', color='#ff7f0e')\n",
    "ax.set_ylim(0, 8e6)\n",
    "\n",
    "ax.set_xlim(xmin, xmax)\n",
    "\n",
    "ax.tick_params(direction='inout')\n",
    "ax.set_xticks(ticks=np.arange(xmin, xmax+1e-7, xmax/2))\n",
    "ax.ticklabel_format(axis='x', style='sci',\n",
    "                    scilimits=(0, 0), useMathText='True')\n",
    "ax.ticklabel_format(axis='y', style='sci',\n",
    "                    scilimits=(0, 0), useMathText='True')\n",
    "\n",
    "\n",
    "plt.savefig('figs/rel_err_add_hub.pdf', bbox_inches='tight')\n",
    "plt.show()"
   ]
  },
  {
   "attachments": {},
   "cell_type": "markdown",
   "metadata": {},
   "source": [
    "## Conversion"
   ]
  },
  {
   "cell_type": "code",
   "execution_count": 136,
   "metadata": {},
   "outputs": [
    {
     "name": "stdout",
     "output_type": "stream",
     "text": [
      "(-0.0588235, 0.0588235) U (-0.0625, 0.0619815) =\n"
     ]
    },
    {
     "data": {
      "text/plain": [
       "(-0.0625, 0.0619815)"
      ]
     },
     "execution_count": 136,
     "metadata": {},
     "output_type": "execute_result"
    }
   ],
   "source": [
    "conv_p = c[3]\n",
    "conv_h = c[4]\n",
    "\n",
    "del (c)\n",
    "\n",
    "print((np.min(conv_p), np.max(conv_p)), \"U\",\n",
    "      (np.min(conv_h), np.max(conv_h)), \"=\")\n",
    "r_min = min(np.min(conv_p), np.min(conv_h))\n",
    "r_max = max(np.max(conv_p), np.max(conv_h))\n",
    "r_min, r_max"
   ]
  },
  {
   "cell_type": "code",
   "execution_count": 137,
   "metadata": {},
   "outputs": [
    {
     "name": "stdout",
     "output_type": "stream",
     "text": [
      "1305908\n",
      "1305251\n"
     ]
    }
   ],
   "source": [
    "for frmt in [conv_p, conv_h]:\n",
    "    print(np.histogram(frmt, bins=20000, range=(r_min, r_max))[0].max())"
   ]
  },
  {
   "cell_type": "code",
   "execution_count": 253,
   "metadata": {},
   "outputs": [
    {
     "data": {
      "image/png": "[encoded data removed]",
      "text/plain": [
       "<Figure size 500x400 with 1 Axes>"
      ]
     },
     "metadata": {},
     "output_type": "display_data"
    }
   ],
   "source": [
    "fig = plt.figure(figsize=(5, 3))\n",
    "ax = fig.add_subplot(111)\n",
    "ax.set_xlabel('Relative Error')\n",
    "ax.set_ylabel('Frequency')\n",
    "\n",
    "# ax.set_title('Posit32')\n",
    "xmax = 1e-03\n",
    "xmin = -xmax\n",
    "# ax.hist(conv_p, bins=20000, range=(r_min, r_max), color='#1f77b4')\n",
    "# ax.set_ylim(0, 6e6)\n",
    "ax.hist(conv_p, bins=500, range=(xmin, xmax),\n",
    "        histtype='stepfilled', color='#1f77b4')\n",
    "ax.set_ylim(0, 1.2e6)\n",
    "\n",
    "ax.set_xlim(xmin, xmax)\n",
    "\n",
    "ax.tick_params(direction='inout')\n",
    "ax.set_xticks(ticks=np.arange(xmin, xmax+1e-7, xmax/2))\n",
    "ax.ticklabel_format(axis='x', style='sci',\n",
    "                    scilimits=(0, 0), useMathText='True')\n",
    "ax.ticklabel_format(axis='y', style='sci',\n",
    "                    scilimits=(0, 0), useMathText='True')\n",
    "\n",
    "\n",
    "plt.savefig('figs/rel_err_conv_posit.pdf', bbox_inches='tight')\n",
    "plt.show()"
   ]
  },
  {
   "cell_type": "code",
   "execution_count": 254,
   "metadata": {},
   "outputs": [
    {
     "data": {
      "image/png": "[encoded data removed]",
      "text/plain": [
       "<Figure size 500x400 with 1 Axes>"
      ]
     },
     "metadata": {},
     "output_type": "display_data"
    }
   ],
   "source": [
    "fig = plt.figure(figsize=(5, 3))\n",
    "ax = fig.add_subplot(111)\n",
    "ax.set_xlabel('Relative Error')\n",
    "ax.set_ylabel('Frequency')\n",
    "\n",
    "# ax.set_title('Posit32 HUB')\n",
    "xmax = 1e-03\n",
    "xmin = -xmax\n",
    "# ax.hist(conv_h, bins=20000, range=(r_min, r_max), color='#ff7f0e')\n",
    "# ax.set_ylim(0, 6e6)\n",
    "ax.hist(conv_h, bins=500, range=(xmin, xmax),\n",
    "        histtype='stepfilled', color='#ff7f0e')\n",
    "ax.set_ylim(0, 1.2e6)\n",
    "\n",
    "ax.set_xlim(xmin, xmax)\n",
    "\n",
    "ax.tick_params(direction='inout')\n",
    "ax.set_xticks(ticks=np.arange(xmin, xmax+1e-7, xmax/2))\n",
    "ax.ticklabel_format(axis='x', style='sci',\n",
    "                    scilimits=(0, 0), useMathText='True')\n",
    "ax.ticklabel_format(axis='y', style='sci',\n",
    "                    scilimits=(0, 0), useMathText='True')\n",
    "\n",
    "\n",
    "plt.savefig('figs/rel_err_conv_hub.pdf', bbox_inches='tight')\n",
    "plt.show()"
   ]
  },
  {
   "attachments": {},
   "cell_type": "markdown",
   "metadata": {},
   "source": [
    "## Multiplication"
   ]
  },
  {
   "cell_type": "code",
   "execution_count": 39,
   "metadata": {},
   "outputs": [
    {
     "name": "stdout",
     "output_type": "stream",
     "text": [
      "(-0.11581, 0.116259) U (-0.129777, 0.13019) =\n"
     ]
    },
    {
     "data": {
      "text/plain": [
       "(-0.129777, 0.13019)"
      ]
     },
     "execution_count": 39,
     "metadata": {},
     "output_type": "execute_result"
    }
   ],
   "source": [
    "mul_p = m[3]\n",
    "mul_h = m[4]\n",
    "\n",
    "del (m)\n",
    "# del(mm)\n",
    "\n",
    "print((np.min(mul_p), np.max(mul_p)), \"U\", (np.min(mul_h), np.max(mul_h)), \"=\")\n",
    "r_min = min(np.min(mul_p), np.min(mul_h))\n",
    "r_max = max(np.max(mul_p), np.max(mul_h))\n",
    "r_min, r_max"
   ]
  },
  {
   "cell_type": "code",
   "execution_count": 114,
   "metadata": {},
   "outputs": [
    {
     "name": "stdout",
     "output_type": "stream",
     "text": [
      "7480365\n",
      "7477336\n"
     ]
    }
   ],
   "source": [
    "for frmt in [mul_p, mul_h]:\n",
    "    print(np.histogram(frmt, bins=250000, range=(r_min, r_max))[0].max())"
   ]
  },
  {
   "cell_type": "code",
   "execution_count": 40,
   "metadata": {},
   "outputs": [
    {
     "data": {
      "image/png": "[encoded data removed]",
      "text/plain": [
       "<Figure size 500x300 with 1 Axes>"
      ]
     },
     "metadata": {},
     "output_type": "display_data"
    }
   ],
   "source": [
    "fig = plt.figure(figsize=(5, 3))\n",
    "ax = fig.add_subplot(111)\n",
    "ax.set_xlabel('Relative Error')\n",
    "ax.set_ylabel('Frequency')\n",
    "\n",
    "# ax.set_title('Posit32')\n",
    "xmax = 1e-02\n",
    "xmin = -xmax\n",
    "# ax.hist(mul_p, bins=250000, range=(r_min, r_max), color='#1f77b4')\n",
    "# ax.set_ylim(0, 6e6)\n",
    "# ax.hist(mul_p, bins=500, range=(xmin, xmax), color='#1f77b4')\n",
    "ax.hist(mul_p, bins=500, range=(xmin, xmax),\n",
    "        histtype='stepfilled', color='#1f77b4')\n",
    "ax.set_ylim(0, 5e6)\n",
    "\n",
    "ax.set_xlim(xmin, xmax)\n",
    "\n",
    "ax.set_xticks(ticks=np.arange(xmin, xmax+1e-7, xmax/2))\n",
    "ax.ticklabel_format(axis='x', style='sci',\n",
    "                    scilimits=(0, 0), useMathText='True')\n",
    "ax.ticklabel_format(axis='y', style='sci',\n",
    "                    scilimits=(0, 0), useMathText='True')\n",
    "\n",
    "\n",
    "plt.savefig('figs/rel_err_mul_posit.pdf', bbox_inches='tight')\n",
    "plt.show()"
   ]
  },
  {
   "cell_type": "code",
   "execution_count": 41,
   "metadata": {},
   "outputs": [
    {
     "data": {
      "image/png": "[encoded data removed]",
      "text/plain": [
       "<Figure size 500x300 with 1 Axes>"
      ]
     },
     "metadata": {},
     "output_type": "display_data"
    }
   ],
   "source": [
    "fig = plt.figure(figsize=(5, 3))\n",
    "ax = fig.add_subplot(111)\n",
    "ax.set_xlabel('Relative Error')\n",
    "ax.set_ylabel('Frequency')\n",
    "\n",
    "# ax.set_title('Posit32 HUB')\n",
    "xmax = 1e-02\n",
    "xmin = -xmax\n",
    "# ax.hist(mul_h, bins=250000, range=(r_min, r_max), color='#ff7f0e')\n",
    "# ax.set_ylim(0, 6e6)\n",
    "ax.hist(mul_h, bins=500, range=(xmin, xmax),\n",
    "        histtype='stepfilled', color='#ff7f0e')\n",
    "ax.set_ylim(0, 5e6)\n",
    "\n",
    "ax.set_xlim(xmin, xmax)\n",
    "\n",
    "ax.tick_params(direction='inout')\n",
    "ax.set_xticks(ticks=np.arange(xmin, xmax+1e-7, xmax/2))\n",
    "ax.ticklabel_format(axis='x', style='sci',\n",
    "                    scilimits=(0, 0), useMathText='True')\n",
    "ax.ticklabel_format(axis='y', style='sci',\n",
    "                    scilimits=(0, 0), useMathText='True')\n",
    "\n",
    "\n",
    "plt.savefig('figs/rel_err_mul_hub.pdf', bbox_inches='tight')\n",
    "plt.show()"
   ]
  },
  {
   "cell_type": "code",
   "execution_count": null,
   "metadata": {},
   "outputs": [
    {
     "data": {
      "image/png": "[encoded data removed]",
      "text/plain": [
       "<Figure size 500x400 with 1 Axes>"
      ]
     },
     "metadata": {},
     "output_type": "display_data"
    }
   ],
   "source": [
    "fig = plt.figure(figsize=(5, 4))\n",
    "ax = fig.add_subplot(111)\n",
    "ax.set_xlabel('Relative Error')\n",
    "ax.set_ylabel('Frequency')\n",
    "\n",
    "ax.set_title(r'$a\\times b \\in [2^{-48}, 2^{47}]$')\n",
    "ax.hist(mul_h, bins=60000, range=(r_min, r_max),\n",
    "        alpha=0.5, label='HUB')  # , color='b')\n",
    "ax.hist(mul_p, bins=60000, range=(r_min, r_max), alpha=0.5,\n",
    "        label='Standard Posit16')  # , color='b')\n",
    "\n",
    "xmax = 1e-02\n",
    "# xmax = 0.5\n",
    "xmin = -xmax\n",
    "ax.set_xlim(xmin, xmax)\n",
    "# ax.set_ylim(0, 3e5)\n",
    "\n",
    "ax.set_xticks(ticks=np.arange(xmin, xmax+1e-7, xmax/2))\n",
    "ax.ticklabel_format(axis='x', style='sci',\n",
    "                    scilimits=(0, 0), useMathText='True')\n",
    "ax.ticklabel_format(axis='y', style='sci',\n",
    "                    scilimits=(0, 0), useMathText='True')\n",
    "\n",
    "plt.legend()\n",
    "plt.savefig('figs/compare_err_mul_posit_30.pdf', bbox_inches='tight')\n",
    "plt.show()"
   ]
  }
 ],
 "metadata": {
  "kernelspec": {
   "display_name": "Python 3.8.10 ('venv': venv)",
   "language": "python",
   "name": "python3"
  },
  "language_info": {
   "codemirror_mode": {
    "name": "ipython",
    "version": 3
   },
   "file_extension": ".py",
   "mimetype": "text/x-python",
   "name": "python",
   "nbconvert_exporter": "python",
   "pygments_lexer": "ipython3",
   "version": "3.8.10"
  },
  "orig_nbformat": 4,
  "vscode": {
   "interpreter": {
    "hash": "5b482239a6963cb96b724a8f82fc1b51f41fe8dc4832b24a3179bffa9ba725a1"
   }
  }
 },
 "nbformat": 4,
 "nbformat_minor": 2
}
